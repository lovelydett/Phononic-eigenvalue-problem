{
 "cells": [
  {
   "cell_type": "code",
   "execution_count": 7,
   "metadata": {},
   "outputs": [],
   "source": [
    "import tensorflow as tf\n",
    "import keras\n",
    "from keras.callbacks import TensorBoard\n",
    "from keras.utils import plot_model\n",
    "import numpy as np"
   ]
  },
  {
   "cell_type": "code",
   "execution_count": 3,
   "metadata": {},
   "outputs": [],
   "source": [
    "import h5py"
   ]
  },
  {
   "cell_type": "code",
   "execution_count": 4,
   "metadata": {},
   "outputs": [
    {
     "name": "stdout",
     "output_type": "stream",
     "text": [
      "WARNING:tensorflow:From C:\\Users\\xytxy\\.conda\\envs\\ML\\lib\\site-packages\\tensorflow\\python\\framework\\op_def_library.py:263: colocate_with (from tensorflow.python.framework.ops) is deprecated and will be removed in a future version.\n",
      "Instructions for updating:\n",
      "Colocations handled automatically by placer.\n",
      "WARNING:tensorflow:From C:\\Users\\xytxy\\.conda\\envs\\ML\\lib\\site-packages\\tensorflow\\python\\ops\\math_ops.py:3066: to_int32 (from tensorflow.python.ops.math_ops) is deprecated and will be removed in a future version.\n",
      "Instructions for updating:\n",
      "Use tf.cast instead.\n"
     ]
    }
   ],
   "source": [
    "model = keras.models.load_model(\"../model/model_wholeSet_normed_c3_f130_e10.h5\")"
   ]
  },
  {
   "cell_type": "code",
   "execution_count": 5,
   "metadata": {},
   "outputs": [
    {
     "name": "stdout",
     "output_type": "stream",
     "text": [
      "_________________________________________________________________\n",
      "Layer (type)                 Output Shape              Param #   \n",
      "=================================================================\n",
      "conv2d_4 (Conv2D)            (None, 127, 127, 130)     2730      \n",
      "_________________________________________________________________\n",
      "activation_5 (Activation)    (None, 127, 127, 130)     0         \n",
      "_________________________________________________________________\n",
      "max_pooling2d_4 (MaxPooling2 (None, 63, 63, 130)       0         \n",
      "_________________________________________________________________\n",
      "conv2d_5 (Conv2D)            (None, 62, 62, 130)       67730     \n",
      "_________________________________________________________________\n",
      "activation_6 (Activation)    (None, 62, 62, 130)       0         \n",
      "_________________________________________________________________\n",
      "max_pooling2d_5 (MaxPooling2 (None, 31, 31, 130)       0         \n",
      "_________________________________________________________________\n",
      "conv2d_6 (Conv2D)            (None, 30, 30, 130)       67730     \n",
      "_________________________________________________________________\n",
      "activation_7 (Activation)    (None, 30, 30, 130)       0         \n",
      "_________________________________________________________________\n",
      "max_pooling2d_6 (MaxPooling2 (None, 15, 15, 130)       0         \n",
      "_________________________________________________________________\n",
      "flatten_2 (Flatten)          (None, 29250)             0         \n",
      "_________________________________________________________________\n",
      "dense_3 (Dense)              (None, 50)                1462550   \n",
      "_________________________________________________________________\n",
      "activation_8 (Activation)    (None, 50)                0         \n",
      "_________________________________________________________________\n",
      "dense_4 (Dense)              (None, 50)                2550      \n",
      "=================================================================\n",
      "Total params: 1,603,290\n",
      "Trainable params: 1,603,290\n",
      "Non-trainable params: 0\n",
      "_________________________________________________________________\n"
     ]
    }
   ],
   "source": [
    "model.summary()"
   ]
  },
  {
   "cell_type": "code",
   "execution_count": 5,
   "metadata": {},
   "outputs": [],
   "source": [
    "keras.utils.plot_model(model,to_file='test.png')"
   ]
  },
  {
   "cell_type": "code",
   "execution_count": 17,
   "metadata": {},
   "outputs": [],
   "source": [
    "x_mean = [[1.49880835e+11, 4.40176392e+03 ,2.74842257e-01 ,2.49137578e-01,2.49167977e-01]]\n",
    "x_range =[2.99999999e+11, 8.00000000e+03 ,4.49999999e-01 ,4.99999586e-01,4.99985816e-01]\n",
    "y_mean = 1096210.1699824824\n",
    "y_range = 6727841.0\n",
    "\n",
    "def get_test_data(x_mean,x_range,y_mean,y_range):\n",
    "    x_test_raw = np.load(\"../data/inputMatrix.npz\")[\"inputMatrix\"][:]\n",
    "    y_test_raw = np.load(\"../data/Solution.npz\")[\"frequency1\"][:,:50]\n",
    "    x_test = (x_test_raw-x_mean)/x_range\n",
    "    y_test = (y_test_raw-y_mean)/y_range\n",
    "    return x_test,y_test,x_test_raw,y_test_raw\n",
    "\n",
    "x_test,y_test,x_test_raw,y_test_raw = get_test_data(x_mean,x_range,y_mean,y_range)"
   ]
  },
  {
   "cell_type": "code",
   "execution_count": 18,
   "metadata": {},
   "outputs": [
    {
     "name": "stdout",
     "output_type": "stream",
     "text": [
      "(22, 128, 128, 5)\n",
      "(22, 50)\n"
     ]
    }
   ],
   "source": [
    "print(x_test.shape)\n",
    "print(y_test.shape)"
   ]
  },
  {
   "cell_type": "code",
   "execution_count": 13,
   "metadata": {},
   "outputs": [
    {
     "name": "stdout",
     "output_type": "stream",
     "text": [
      "22/22 [==============================] - 2s 99ms/step\n",
      "loss: 0.0013233359204605222\n",
      "MAE: 0.034081198275089264\n"
     ]
    }
   ],
   "source": [
    "loss,mae=model.evaluate(x_test,y_test)\n",
    "print(\"loss:\",loss)\n",
    "print(\"MAE:\",mae)"
   ]
  },
  {
   "cell_type": "code",
   "execution_count": 14,
   "metadata": {},
   "outputs": [],
   "source": [
    "y_pred_normed = model.predict(x_test)"
   ]
  },
  {
   "cell_type": "code",
   "execution_count": 19,
   "metadata": {},
   "outputs": [],
   "source": [
    "y_pred_raw = y_pred_normed*y_range+y_mean"
   ]
  },
  {
   "cell_type": "code",
   "execution_count": 20,
   "metadata": {},
   "outputs": [
    {
     "data": {
      "text/plain": [
       "(22, 50)"
      ]
     },
     "execution_count": 20,
     "metadata": {},
     "output_type": "execute_result"
    }
   ],
   "source": [
    "y_pred_raw.shape"
   ]
  },
  {
   "cell_type": "code",
   "execution_count": 56,
   "metadata": {},
   "outputs": [
    {
     "name": "stdout",
     "output_type": "stream",
     "text": [
      "[-0.13910866 -0.13139229 -0.11969245 -0.10948427 -0.10272439 -0.09903754\n",
      " -0.09061407 -0.08758032 -0.08067491 -0.07797613 -0.07373808 -0.06949872\n",
      " -0.06672671 -0.06362692 -0.0596773  -0.05206248 -0.04981755 -0.04560328\n",
      " -0.04282257 -0.03809635 -0.03649366 -0.03433346 -0.03083329 -0.02959502\n",
      " -0.02627665 -0.02201245 -0.02093492 -0.01766094 -0.01603543 -0.01258881\n",
      " -0.00981546 -0.00845263 -0.00590442 -0.00302879  0.00004369  0.00158051\n",
      "  0.00434361  0.0075382   0.00753119  0.01063863  0.0117535   0.01603832\n",
      "  0.01714116  0.02146835  0.0219203   0.0226845   0.02566626  0.02622886\n",
      "  0.02818206  0.0306919 ]\n",
      "[-0.15308192 -0.1490889  -0.14545293 -0.12263044 -0.1196002  -0.11211252\n",
      " -0.10419371 -0.10214891 -0.09891171 -0.09158067 -0.09042463 -0.0890388\n",
      " -0.08490837 -0.08299714 -0.08218011 -0.08145387 -0.07571428 -0.07462572\n",
      " -0.07421214 -0.06878245 -0.06729972 -0.06657207 -0.06600128 -0.06307958\n",
      " -0.05947534 -0.0582169  -0.05676026 -0.05508899 -0.05466964 -0.05327088\n",
      " -0.04850384 -0.04799001 -0.04570148 -0.04379637 -0.0422968  -0.04203733\n",
      " -0.03887498 -0.0385289  -0.03736408 -0.03574027 -0.03467385 -0.03253919\n",
      " -0.03010909 -0.02783993 -0.027038   -0.02680533 -0.02384142 -0.0224985\n",
      " -0.02091353 -0.02039008]\n"
     ]
    }
   ],
   "source": [
    "y_error = y_pred_raw-y_test_raw\n",
    "np.set_printoptions(suppress=True)\n",
    "print(y_pred_normed[0])\n",
    "print(np.real(y_test[0]))"
   ]
  },
  {
   "cell_type": "code",
   "execution_count": 59,
   "metadata": {},
   "outputs": [
    {
     "data": {
      "text/plain": [
       "224788.88"
      ]
     },
     "execution_count": 59,
     "metadata": {},
     "output_type": "execute_result"
    }
   ],
   "source": [
    "np.sum(np.absolute(y_pred_raw[0] - y_test_raw[0]))/len(y_test[0])"
   ]
  },
  {
   "cell_type": "code",
   "execution_count": null,
   "metadata": {},
   "outputs": [],
   "source": []
  }
 ],
 "metadata": {
  "kernelspec": {
   "display_name": "ML",
   "language": "python",
   "name": "ml"
  },
  "language_info": {
   "codemirror_mode": {
    "name": "ipython",
    "version": 3
   },
   "file_extension": ".py",
   "mimetype": "text/x-python",
   "name": "python",
   "nbconvert_exporter": "python",
   "pygments_lexer": "ipython3",
   "version": "3.7.3"
  }
 },
 "nbformat": 4,
 "nbformat_minor": 2
}
