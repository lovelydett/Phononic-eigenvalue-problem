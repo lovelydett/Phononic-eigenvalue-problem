{
 "cells": [
  {
   "cell_type": "code",
   "execution_count": 1,
   "metadata": {},
   "outputs": [
    {
     "name": "stderr",
     "output_type": "stream",
     "text": [
      "Using TensorFlow backend.\n"
     ]
    }
   ],
   "source": [
    "import tensorflow as tf \n",
    "import numpy as np\n",
    "import keras\n",
    "import keras.backend as K \n",
    "from keras.models import Sequential\n",
    "from keras.layers import Dense, Dropout, Activation, Flatten, BatchNormalization\n",
    "from keras.layers import Conv2D, GlobalMaxPooling1D, MaxPooling2D\n",
    "from keras.optimizers import Adam\n",
    "#from keras.utils.training_utils import multi_gpu_model"
   ]
  },
  {
   "cell_type": "code",
   "execution_count": 2,
   "metadata": {},
   "outputs": [],
   "source": [
    "import numpy\n",
    "import csv\n",
    "import h5py\n",
    "import gc \n",
    "import argparse\n",
    "import os \n",
    "import psutil"
   ]
  },
  {
   "cell_type": "code",
   "execution_count": 3,
   "metadata": {},
   "outputs": [],
   "source": [
    "os.environ[\"CUDA_VISIBLE_DEVICES\"] = \"0\"\n",
    "\n",
    "gpu_options = tf.GPUOptions(allow_growth=True)\n",
    "\n",
    "sess = tf.Session(config=tf.ConfigProto(gpu_options=gpu_options))"
   ]
  },
  {
   "cell_type": "code",
   "execution_count": 4,
   "metadata": {},
   "outputs": [],
   "source": [
    "n_hidden_units = 50\n",
    "n_convpool_layers = 1\n",
    "n_convlayers = 2\n",
    "n_reglayers = 2\n",
    "max_poolsize = (2,2)\n",
    "train_set_ratio = 0.7\n",
    "valid_set_ratio = 0.15\n",
    "set_split_ratio34 = 0.5\n",
    "drop_rate = 0.0\n",
    "n_filters = 130 #130 before \n",
    "reg_factor = 0.0\n",
    "kernel_size = (2,2)\n",
    "input_strides = 1\n",
    "kernel_init = 'uniform'\n",
    "cost_function = 'mean_squared_error'\n",
    "batch_size = 64#128\n",
    "feed_batch_size = 256\n",
    "input_sample_shape = [128,128,5]\n",
    "#target_sample_shape = [50]\n",
    "n_epochs = 35\n",
    "n_output = [0,50]\n",
    "n_set1 = 10000\n",
    "n_set2 = None\n",
    "n_set100 = 10000 \n",
    "n_post_test = 5000\n",
    "xnorm_axis = (0,1,2,3)\n",
    "early_stop_delta = 0.01 # 0.01 change or above is considered improvement\n",
    "early_stop_patience = 10 \n"
   ]
  },
  {
   "cell_type": "code",
   "execution_count": 26,
   "metadata": {},
   "outputs": [],
   "source": [
    "def get_x_mean_n_range():\n",
    "    ds = ds = h5py.File(\"../data/data2D%d.h5\",\"r\",driver='family', memb_size=2500*10**6)\n",
    "    x_min = np.zeros((1,5),dtype = ds[\"random\"][\"x0\"].dtype)\n",
    "    x_max = np.zeros((1,5),dtype = ds[\"random\"][\"x0\"].dtype)\n",
    "    x_mean = np.zeros((1,5),dtype = ds[\"random\"][\"x0\"].dtype)\n",
    "    count = 0\n",
    "    for key1 in list(ds.keys()):\n",
    "        for key2 in ds[key1].keys():\n",
    "            if key2.find(\"x\")>=0 :\n",
    "                temp_x = ds[key1][key2][:]\n",
    "                if temp_x.shape[0] != 64:\n",
    "                    continue\n",
    "                    \n",
    "                #handle mean\n",
    "                count+=1\n",
    "                x_mean += np.mean(temp_x,axis=(0,1,2))\n",
    "                \n",
    "                #handle max\n",
    "                temp_max = np.amax(temp_x,axis=(0,1,2))\n",
    "                temp_batch = np.vstack([temp_max,x_max])\n",
    "                x_max = np.amax(temp_batch,axis=(0))\n",
    "                \n",
    "                #handle min\n",
    "                temp_min = np.amin(temp_x,axis =(0,1,2))\n",
    "                temp_batch = np.vstack([temp_min,x_min])\n",
    "                x_min = np.amin(temp_batch,axis=(0))\n",
    "                \n",
    "    x_mean = x_mean/count     \n",
    "    x_range = x_max-x_min\n",
    "    return x_mean,x_range\n",
    "\n",
    "def get_y_mean_n_range():\n",
    "    ds = ds = h5py.File(\"../data/data2D%d.h5\",\"r\",driver='family', memb_size=2500*10**6)\n",
    "    y_min = 0 \n",
    "    y_max = 0\n",
    "    y_mean = 0\n",
    "    count = 0\n",
    "    for key1 in list(ds.keys()):\n",
    "        for key2 in ds[key1].keys():\n",
    "            if key2.find(\"y\")>=0 :\n",
    "                temp_y = np.real(ds[key1][key2][:])\n",
    "                if temp_y.shape[0] != 64:\n",
    "                    continue\n",
    "                    \n",
    "                #handle mean\n",
    "                count+=1\n",
    "                y_mean += np.mean(temp_y)\n",
    "                \n",
    "                #handle max\n",
    "                temp_max = np.max(temp_y)\n",
    "                y_max = temp_max if temp_max>y_max else y_max\n",
    "                \n",
    "                #handle min\n",
    "                temp_min = np.min(temp_y)\n",
    "                y_min = temp_min if temp_min<y_min else y_min\n",
    "                \n",
    "    y_mean = y_mean/count     \n",
    "    y_range = y_max-y_min\n",
    "    return y_mean,y_range\n",
    "                \n",
    "def generate_data_from_file(x_mean,x_range,y_mean,y_range):\n",
    "    while 1:\n",
    "        ds = h5py.File(\"../data/data2D%d.h5\",\"r\",driver='family', memb_size=2500*10**6)\n",
    "        key1 = list(ds.keys())\n",
    "        for key1_index in range(len(key1)):\n",
    "            x_count = 0\n",
    "            y_count = 0\n",
    "            key2 = list(ds[key1[key1_index]].keys())\n",
    "#             for key2_index in range(len(key2)):\n",
    "#                 if key2[key2_index].find(\"x\")>=0:\n",
    "#                     x_count+=1\n",
    "#                 else :\n",
    "#                     y_count+=1\n",
    "#             print(\"x:\",end=\"\")\n",
    "#             print(x_count)\n",
    "#             print(\"y:\",end=\"\")\n",
    "#             print(y_count)\n",
    "            for key2_index in range(int(len(key2)/2)):   #0-399 or 0-199\n",
    "                if ds[key1[key1_index]][key2[key2_index]].shape[0]>64:\n",
    "                    continue\n",
    "                x_raw = ds[key1[key1_index]][key2[key2_index]][:]\n",
    "                y_raw = ds[key1[key1_index]][key2[key2_index+int(len(key2)/2)]][:]\n",
    "\n",
    "                x_mean = np.mean(x_raw,axis=(0,1,2))\n",
    "                x_max = np.amax(x_raw,axis=(0,1,2))\n",
    "                x_normed = (x_raw-x_mean)/x_max\n",
    "                \n",
    "                y_mean = np.mean(y_raw,axis=())\n",
    "                y_max = np.max(y_raw,axis=())\n",
    "                y_min = np.min(y_raw,axis=())\n",
    "                y_normed = (y_raw-y_mean)/y_max\n",
    "                \n",
    "                yield(x_normed,y_normed)\n",
    "#                 if key2[key2_index].find(\"x\")>=0:\n",
    "#                     x_raw = ds[key1[key1_index]][key2[key2_index]][:]\n",
    "#                     x_mean = np.mean(x_raw,axis=(0,1,2))\n",
    "#                     x_max = np.amax(x_raw,axis=(0,1,2))\n",
    "#                     x_normed = (x_raw-x_mean)/x_max\n",
    "#                     print(x_normed[0][0][0])\n",
    "#                 else:\n",
    "#                     y_raw = ds[key1[key1_index]][key2[key2_index]][:]\n",
    "#                     y_mean = np.mean(y_raw,axis=())\n",
    "#                     y_max = np.max(y_raw,axis=())\n",
    "#                     y_min = np.min(y_raw,axis=())\n",
    "#                     y_normed = (y_raw-y_mean)/y_max\n",
    "#                     print(y_normed[0])\n",
    "def get_validation_data(x_mean,x_range,y_mean,y_range):\n",
    "    ds = h5py.File(\"../data/data2D%d.h5\",\"r\",driver='family', memb_size=2500*10**6)\n",
    "    x_val_raw = ds[\"random\"][\"x0\"][:]\n",
    "    y_val_raw = ds[\"random\"][\"y0\"][:]\n",
    "    \n",
    "#     x_val_mean = np.mean(x_val_raw,axis=(0,1,2))\n",
    "#     x_val_max = np.amax(x_val_raw,axis=(0,1,2))\n",
    "    x_val_normed = (x_val_raw-x_mean)/x_range\n",
    "    \n",
    "#     y_val_mean = np.mean(y_val_raw,axis=())\n",
    "#     y_val_max = np.max(y_val_raw,axis=())\n",
    "#     y_val_min = np.min(y_val_raw,axis=())\n",
    "    y_val_normed = (y_val_raw-y_mean)/y_range\n",
    "    \n",
    "    return x_val_normed,y_val_normed\n",
    "\n",
    "def get_test_data():\n",
    "    x_test_raw = np.load(\"../data/inputMatrix.npz\")[\"inputMatrix\"]\n",
    "    y_test_raw = np.load(\"../data/Solution.npz\")[\"frequency1\"][:50]\n",
    "    \n",
    "    \n"
   ]
  },
  {
   "cell_type": "code",
   "execution_count": 16,
   "metadata": {},
   "outputs": [
    {
     "name": "stdout",
     "output_type": "stream",
     "text": [
      "[[1.49880835e+11 4.40176392e+03 2.74842257e-01 2.49137578e-01\n",
      "  2.49167977e-01]]\n",
      "[2.99999999e+11 8.00000000e+03 4.49999999e-01 4.99999586e-01\n",
      " 4.99985816e-01]\n"
     ]
    }
   ],
   "source": [
    "x_mean,x_range = get_x_mean_n_range()\n",
    "print(x_mean)\n",
    "print(x_range)"
   ]
  },
  {
   "cell_type": "code",
   "execution_count": 27,
   "metadata": {},
   "outputs": [
    {
     "name": "stdout",
     "output_type": "stream",
     "text": [
      "1096210.1699824824\n",
      "6727841.0\n"
     ]
    }
   ],
   "source": [
    "y_mean,y_range = get_y_mean_n_range()\n",
    "print(y_mean)\n",
    "print(y_range)"
   ]
  },
  {
   "cell_type": "code",
   "execution_count": 5,
   "metadata": {},
   "outputs": [],
   "source": [
    "def create_model():\n",
    "    model=Sequential()\n",
    "\n",
    "    model.add(Conv2D(filters=n_filters, kernel_size = kernel_size ,strides= input_strides,\n",
    "                     input_shape=(128,128,5),kernel_initializer= kernel_init))\n",
    "    model.add(Activation('relu'))\n",
    "\n",
    "    #model.add(Conv2D(filters=n_filters, kernel_size = kernel_size ,strides= input_strides,\n",
    "    #                 kernel_initializer= kernel_init))\n",
    "    #model.add(Activation('relu'))\n",
    "\n",
    "    #model.add(Conv2D(filters=n_filters, kernel_size = kernel_size ,strides= input_strides,\n",
    "    #                 kernel_initializer= kernel_init))\n",
    "    #model.add(Activation('relu'))\n",
    "\n",
    "\n",
    "    model.add(MaxPooling2D(pool_size=max_poolsize))\n",
    "\n",
    "    #model.add(BatchNormalization())\n",
    "\n",
    "    model.add(Conv2D(filters=n_filters, kernel_size = kernel_size ,strides= input_strides,\n",
    "                     kernel_initializer= kernel_init))\n",
    "    model.add(Activation('relu'))\n",
    "    model.add(MaxPooling2D(pool_size=max_poolsize))\n",
    "\n",
    "    #model.add(BatchNormalization())\n",
    "\n",
    "    model.add(Conv2D(filters=n_filters, kernel_size = kernel_size ,strides= input_strides,\n",
    "                     kernel_initializer= kernel_init))\n",
    "    model.add(Activation('relu'))\n",
    "    model.add(MaxPooling2D(pool_size=max_poolsize))\n",
    "    \n",
    "#     model.add(Conv2D(filters=n_filters, kernel_size = kernel_size ,strides= input_strides,\n",
    "#                      kernel_initializer= kernel_init))\n",
    "#     model.add(Activation('relu'))\n",
    "    #model.add(MaxPooling2D(pool_size=max_poolsize))\n",
    "\n",
    "    model.add(Flatten())\n",
    "    model.add(Dense(n_hidden_units))\n",
    "    model.add(Activation('relu'))\n",
    "    model.add(Dense(n_output[1]-n_output[0], activation='linear'))\n",
    "\n",
    "    earlyStopping = keras.callbacks.EarlyStopping(monitor='val_loss', min_delta=early_stop_delta, patience=early_stop_patience, verbose=2, mode='auto')\n",
    "\n",
    "    model.summary()\n",
    "    return model"
   ]
  },
  {
   "cell_type": "code",
   "execution_count": 6,
   "metadata": {},
   "outputs": [
    {
     "name": "stderr",
     "output_type": "stream",
     "text": [
      "WARNING: Logging before flag parsing goes to stderr.\n",
      "W0803 06:20:20.111072 140277791745792 deprecation_wrapper.py:119] From /home/ubuntu/anaconda3/envs/tfgpu/lib/python3.6/site-packages/keras/backend/tensorflow_backend.py:74: The name tf.get_default_graph is deprecated. Please use tf.compat.v1.get_default_graph instead.\n",
      "\n",
      "W0803 06:20:20.114074 140277791745792 deprecation_wrapper.py:119] From /home/ubuntu/anaconda3/envs/tfgpu/lib/python3.6/site-packages/keras/backend/tensorflow_backend.py:517: The name tf.placeholder is deprecated. Please use tf.compat.v1.placeholder instead.\n",
      "\n",
      "W0803 06:20:20.117164 140277791745792 deprecation_wrapper.py:119] From /home/ubuntu/anaconda3/envs/tfgpu/lib/python3.6/site-packages/keras/backend/tensorflow_backend.py:4138: The name tf.random_uniform is deprecated. Please use tf.random.uniform instead.\n",
      "\n",
      "W0803 06:20:20.133504 140277791745792 deprecation_wrapper.py:119] From /home/ubuntu/anaconda3/envs/tfgpu/lib/python3.6/site-packages/keras/backend/tensorflow_backend.py:3976: The name tf.nn.max_pool is deprecated. Please use tf.nn.max_pool2d instead.\n",
      "\n",
      "W0803 06:20:20.249526 140277791745792 deprecation_wrapper.py:119] From /home/ubuntu/anaconda3/envs/tfgpu/lib/python3.6/site-packages/keras/optimizers.py:790: The name tf.train.Optimizer is deprecated. Please use tf.compat.v1.train.Optimizer instead.\n",
      "\n"
     ]
    },
    {
     "name": "stdout",
     "output_type": "stream",
     "text": [
      "_________________________________________________________________\n",
      "Layer (type)                 Output Shape              Param #   \n",
      "=================================================================\n",
      "conv2d_1 (Conv2D)            (None, 127, 127, 130)     2730      \n",
      "_________________________________________________________________\n",
      "activation_1 (Activation)    (None, 127, 127, 130)     0         \n",
      "_________________________________________________________________\n",
      "max_pooling2d_1 (MaxPooling2 (None, 63, 63, 130)       0         \n",
      "_________________________________________________________________\n",
      "conv2d_2 (Conv2D)            (None, 62, 62, 130)       67730     \n",
      "_________________________________________________________________\n",
      "activation_2 (Activation)    (None, 62, 62, 130)       0         \n",
      "_________________________________________________________________\n",
      "max_pooling2d_2 (MaxPooling2 (None, 31, 31, 130)       0         \n",
      "_________________________________________________________________\n",
      "conv2d_3 (Conv2D)            (None, 30, 30, 130)       67730     \n",
      "_________________________________________________________________\n",
      "activation_3 (Activation)    (None, 30, 30, 130)       0         \n",
      "_________________________________________________________________\n",
      "max_pooling2d_3 (MaxPooling2 (None, 15, 15, 130)       0         \n",
      "_________________________________________________________________\n",
      "flatten_1 (Flatten)          (None, 29250)             0         \n",
      "_________________________________________________________________\n",
      "dense_1 (Dense)              (None, 50)                1462550   \n",
      "_________________________________________________________________\n",
      "activation_4 (Activation)    (None, 50)                0         \n",
      "_________________________________________________________________\n",
      "dense_2 (Dense)              (None, 50)                2550      \n",
      "=================================================================\n",
      "Total params: 1,603,290\n",
      "Trainable params: 1,603,290\n",
      "Non-trainable params: 0\n",
      "_________________________________________________________________\n"
     ]
    }
   ],
   "source": [
    "model = create_model()\n",
    "model.compile(loss=cost_function, optimizer='adam', metrics=[\"MAE\"])"
   ]
  },
  {
   "cell_type": "code",
   "execution_count": 11,
   "metadata": {},
   "outputs": [
    {
     "name": "stdout",
     "output_type": "stream",
     "text": [
      "(15360, 128, 128, 5) (15360, 50)\n"
     ]
    }
   ],
   "source": [
    "x_val,y_val = get_validation_data(x_mean,x_range,y_mean,y_range)\n",
    "print(x_val.shape,y_val.shape)"
   ]
  },
  {
   "cell_type": "code",
   "execution_count": 13,
   "metadata": {},
   "outputs": [
    {
     "name": "stdout",
     "output_type": "stream",
     "text": [
      "Epoch 1/35\n"
     ]
    },
    {
     "name": "stderr",
     "output_type": "stream",
     "text": [
      "/home/ubuntu/anaconda3/envs/tfgpu/lib/python3.6/site-packages/numpy/core/numeric.py:538: ComplexWarning: Casting complex values to real discards the imaginary part\n",
      "  return array(a, dtype, copy=False, order=order)\n"
     ]
    },
    {
     "name": "stdout",
     "output_type": "stream",
     "text": [
      "999/999 [==============================] - 475s 475ms/step - loss: 2.1425e-06 - mean_absolute_error: 1.1286e-04 - val_loss: 0.0000e+00 - val_mean_absolute_error: 7.5160e-26\n",
      "Epoch 2/35\n",
      "999/999 [==============================] - 477s 477ms/step - loss: 0.0000e+00 - mean_absolute_error: 1.3680e-27 - val_loss: 0.0000e+00 - val_mean_absolute_error: 1.6620e-34\n",
      "Epoch 3/35\n",
      "999/999 [==============================] - 389s 389ms/step - loss: 0.0000e+00 - mean_absolute_error: 1.9191e-34 - val_loss: 0.0000e+00 - val_mean_absolute_error: 2.0985e-34\n",
      "Epoch 4/35\n",
      "999/999 [==============================] - 476s 477ms/step - loss: 0.0000e+00 - mean_absolute_error: 2.3436e-34 - val_loss: 0.0000e+00 - val_mean_absolute_error: 2.3663e-34\n",
      "Epoch 5/35\n",
      "999/999 [==============================] - 404s 404ms/step - loss: 0.0000e+00 - mean_absolute_error: 2.2736e-34 - val_loss: 0.0000e+00 - val_mean_absolute_error: 4.4763e-34\n",
      "Epoch 6/35\n",
      "999/999 [==============================] - 476s 477ms/step - loss: 0.0000e+00 - mean_absolute_error: 2.0005e-34 - val_loss: 0.0000e+00 - val_mean_absolute_error: 1.5100e-34\n",
      "Epoch 7/35\n",
      "999/999 [==============================] - 476s 477ms/step - loss: 0.0000e+00 - mean_absolute_error: 1.7673e-34 - val_loss: 0.0000e+00 - val_mean_absolute_error: 1.3205e-34\n",
      "Epoch 8/35\n",
      "999/999 [==============================] - 476s 477ms/step - loss: 0.0000e+00 - mean_absolute_error: 1.3205e-34 - val_loss: 0.0000e+00 - val_mean_absolute_error: 1.3205e-34\n",
      "Epoch 9/35\n",
      "999/999 [==============================] - 401s 402ms/step - loss: 0.0000e+00 - mean_absolute_error: 1.3205e-34 - val_loss: 0.0000e+00 - val_mean_absolute_error: 1.3205e-34\n",
      "Epoch 10/35\n",
      "999/999 [==============================] - 453s 453ms/step - loss: 0.0000e+00 - mean_absolute_error: 1.3205e-34 - val_loss: 0.0000e+00 - val_mean_absolute_error: 1.3205e-34\n",
      "Epoch 11/35\n",
      "999/999 [==============================] - 406s 407ms/step - loss: 0.0000e+00 - mean_absolute_error: 1.3205e-34 - val_loss: 0.0000e+00 - val_mean_absolute_error: 1.3205e-34\n",
      "Epoch 12/35\n",
      "999/999 [==============================] - 405s 406ms/step - loss: 0.0000e+00 - mean_absolute_error: 1.3205e-34 - val_loss: 0.0000e+00 - val_mean_absolute_error: 1.3205e-34\n",
      "Epoch 13/35\n",
      "999/999 [==============================] - 477s 477ms/step - loss: 0.0000e+00 - mean_absolute_error: 1.3205e-34 - val_loss: 0.0000e+00 - val_mean_absolute_error: 1.3205e-34\n",
      "Epoch 14/35\n",
      "999/999 [==============================] - 477s 477ms/step - loss: 0.0000e+00 - mean_absolute_error: 1.3205e-34 - val_loss: 0.0000e+00 - val_mean_absolute_error: 1.3205e-34\n",
      "Epoch 15/35\n",
      "999/999 [==============================] - 466s 466ms/step - loss: 0.0000e+00 - mean_absolute_error: 1.3205e-34 - val_loss: 0.0000e+00 - val_mean_absolute_error: 1.3205e-34\n",
      "Epoch 16/35\n",
      "999/999 [==============================] - 477s 477ms/step - loss: 0.0000e+00 - mean_absolute_error: 1.3205e-34 - val_loss: 0.0000e+00 - val_mean_absolute_error: 1.3205e-34\n",
      "Epoch 17/35\n",
      "999/999 [==============================] - 453s 454ms/step - loss: 0.0000e+00 - mean_absolute_error: 1.3205e-34 - val_loss: 0.0000e+00 - val_mean_absolute_error: 1.3205e-34\n",
      "Epoch 18/35\n",
      "999/999 [==============================] - 477s 477ms/step - loss: 0.0000e+00 - mean_absolute_error: 1.3205e-34 - val_loss: 0.0000e+00 - val_mean_absolute_error: 1.3205e-34\n",
      "Epoch 19/35\n",
      "999/999 [==============================] - 477s 477ms/step - loss: 0.0000e+00 - mean_absolute_error: 1.3205e-34 - val_loss: 0.0000e+00 - val_mean_absolute_error: 1.3205e-34\n",
      "Epoch 20/35\n",
      "999/999 [==============================] - 477s 477ms/step - loss: 0.0000e+00 - mean_absolute_error: 1.3205e-34 - val_loss: 0.0000e+00 - val_mean_absolute_error: 1.3205e-34\n",
      "Epoch 21/35\n",
      "999/999 [==============================] - 477s 477ms/step - loss: 0.0000e+00 - mean_absolute_error: 1.3205e-34 - val_loss: 0.0000e+00 - val_mean_absolute_error: 1.3205e-34\n",
      "Epoch 22/35\n",
      "999/999 [==============================] - 477s 477ms/step - loss: 0.0000e+00 - mean_absolute_error: 1.3205e-34 - val_loss: 0.0000e+00 - val_mean_absolute_error: 1.3205e-34\n",
      "Epoch 23/35\n",
      "999/999 [==============================] - 398s 398ms/step - loss: 0.0000e+00 - mean_absolute_error: 1.3205e-34 - val_loss: 0.0000e+00 - val_mean_absolute_error: 1.3205e-34\n",
      "Epoch 24/35\n",
      "999/999 [==============================] - 477s 477ms/step - loss: 0.0000e+00 - mean_absolute_error: 1.3205e-34 - val_loss: 0.0000e+00 - val_mean_absolute_error: 1.3205e-34\n",
      "Epoch 25/35\n",
      "999/999 [==============================] - 477s 477ms/step - loss: 0.0000e+00 - mean_absolute_error: 1.3205e-34 - val_loss: 0.0000e+00 - val_mean_absolute_error: 1.3205e-34\n",
      "Epoch 26/35\n",
      "999/999 [==============================] - 472s 472ms/step - loss: 0.0000e+00 - mean_absolute_error: 1.3205e-34 - val_loss: 0.0000e+00 - val_mean_absolute_error: 1.3205e-34\n",
      "Epoch 27/35\n",
      "999/999 [==============================] - 477s 477ms/step - loss: 0.0000e+00 - mean_absolute_error: 1.3205e-34 - val_loss: 0.0000e+00 - val_mean_absolute_error: 1.3205e-34\n",
      "Epoch 28/35\n",
      "999/999 [==============================] - 477s 477ms/step - loss: 0.0000e+00 - mean_absolute_error: 1.3205e-34 - val_loss: 0.0000e+00 - val_mean_absolute_error: 1.3205e-34\n",
      "Epoch 29/35\n",
      "999/999 [==============================] - 477s 477ms/step - loss: 0.0000e+00 - mean_absolute_error: 1.3205e-34 - val_loss: 0.0000e+00 - val_mean_absolute_error: 1.3205e-34\n",
      "Epoch 30/35\n",
      "999/999 [==============================] - 468s 469ms/step - loss: 0.0000e+00 - mean_absolute_error: 1.3205e-34 - val_loss: 0.0000e+00 - val_mean_absolute_error: 1.3205e-34\n",
      "Epoch 31/35\n",
      "999/999 [==============================] - 477s 478ms/step - loss: 0.0000e+00 - mean_absolute_error: 1.3205e-34 - val_loss: 0.0000e+00 - val_mean_absolute_error: 1.3205e-34\n",
      "Epoch 32/35\n",
      "999/999 [==============================] - 477s 477ms/step - loss: 0.0000e+00 - mean_absolute_error: 1.3205e-34 - val_loss: 0.0000e+00 - val_mean_absolute_error: 1.3205e-34\n",
      "Epoch 33/35\n",
      "999/999 [==============================] - 441s 441ms/step - loss: 0.0000e+00 - mean_absolute_error: 1.3205e-34 - val_loss: 0.0000e+00 - val_mean_absolute_error: 1.3205e-34\n",
      "Epoch 34/35\n",
      "999/999 [==============================] - 477s 478ms/step - loss: 0.0000e+00 - mean_absolute_error: 1.3205e-34 - val_loss: 0.0000e+00 - val_mean_absolute_error: 1.3205e-34\n",
      "Epoch 35/35\n",
      "999/999 [==============================] - 477s 478ms/step - loss: 0.0000e+00 - mean_absolute_error: 1.3205e-34 - val_loss: 0.0000e+00 - val_mean_absolute_error: 1.3205e-34\n"
     ]
    },
    {
     "data": {
      "text/plain": [
       "<keras.callbacks.History at 0x7f94800a4080>"
      ]
     },
     "execution_count": 13,
     "metadata": {},
     "output_type": "execute_result"
    }
   ],
   "source": [
    "model.fit_generator(generate_data_from_file(),steps_per_epoch=399+200+200+200,epochs=35,validation_data=(x_val,y_val))"
   ]
  },
  {
   "cell_type": "code",
   "execution_count": 14,
   "metadata": {},
   "outputs": [],
   "source": [
    "model.save(\"model_wholeSet_normed_c3_f130.h5\")"
   ]
  },
  {
   "cell_type": "code",
   "execution_count": null,
   "metadata": {},
   "outputs": [],
   "source": []
  }
 ],
 "metadata": {
  "kernelspec": {
   "display_name": "Python [conda env:tfgpu]",
   "language": "python",
   "name": "conda-env-tfgpu-py"
  },
  "language_info": {
   "codemirror_mode": {
    "name": "ipython",
    "version": 3
   },
   "file_extension": ".py",
   "mimetype": "text/x-python",
   "name": "python",
   "nbconvert_exporter": "python",
   "pygments_lexer": "ipython3",
   "version": "3.6.9"
  }
 },
 "nbformat": 4,
 "nbformat_minor": 2
}
