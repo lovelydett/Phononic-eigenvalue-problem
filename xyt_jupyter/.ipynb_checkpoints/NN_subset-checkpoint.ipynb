{
 "cells": [
  {
   "cell_type": "code",
   "execution_count": 47,
   "metadata": {},
   "outputs": [],
   "source": [
    "import tensorflow as tf \n",
    "import numpy as np\n",
    "import keras\n",
    "import keras.backend as K \n",
    "from keras.models import Sequential\n",
    "from keras.layers import Dense, Dropout, Activation, Flatten, BatchNormalization\n",
    "from keras.layers import Conv2D, GlobalMaxPooling1D, MaxPooling2D\n",
    "from keras.optimizers import Adam\n",
    "#from keras.utils.training_utils import multi_gpu_model"
   ]
  },
  {
   "cell_type": "code",
   "execution_count": 48,
   "metadata": {},
   "outputs": [],
   "source": [
    "import numpy\n",
    "import csv\n",
    "import h5py\n",
    "import gc \n",
    "import argparse\n",
    "import os \n",
    "import psutil"
   ]
  },
  {
   "cell_type": "code",
   "execution_count": 49,
   "metadata": {},
   "outputs": [],
   "source": [
    "os.environ[\"CUDA_VISIBLE_DEVICES\"] = \"0\"\n",
    "\n",
    "gpu_options = tf.GPUOptions(allow_growth=True)\n",
    "\n",
    "sess = tf.Session(config=tf.ConfigProto(gpu_options=gpu_options))\n"
   ]
  },
  {
   "cell_type": "code",
   "execution_count": 50,
   "metadata": {},
   "outputs": [],
   "source": [
    "n_hidden_units = 50\n",
    "n_convpool_layers = 1\n",
    "n_convlayers = 2\n",
    "n_reglayers = 2\n",
    "max_poolsize = (2,2)\n",
    "train_set_ratio = 0.7\n",
    "valid_set_ratio = 0.15\n",
    "set_split_ratio34 = 0.5\n",
    "drop_rate = 0.0\n",
    "n_filters = 130 #130 before \n",
    "reg_factor = 0.0\n",
    "kernel_size = (2,2)\n",
    "input_strides = 1\n",
    "kernel_init = 'uniform'\n",
    "cost_function = 'mean_squared_error'\n",
    "batch_size = 64#128\n",
    "feed_batch_size = 256\n",
    "input_sample_shape = [128,128,5]\n",
    "#target_sample_shape = [50]\n",
    "n_epochs = 35\n",
    "n_output = [0,50]\n",
    "n_set1 = 10000\n",
    "n_set2 = None\n",
    "n_set100 = 10000 \n",
    "n_post_test = 5000\n",
    "xnorm_axis = (0,1,2,3)\n",
    "early_stop_delta = 0.01 # 0.01 change or above is considered improvement\n",
    "early_stop_patience = 10 \n"
   ]
  },
  {
   "cell_type": "code",
   "execution_count": 81,
   "metadata": {},
   "outputs": [],
   "source": [
    "def create_model():\n",
    "    model=Sequential()\n",
    "\n",
    "    model.add(Conv2D(filters=n_filters, kernel_size = kernel_size ,strides= input_strides,\n",
    "                     input_shape=(128,128,5),kernel_initializer= kernel_init))\n",
    "    model.add(Activation('relu'))\n",
    "\n",
    "    #model.add(Conv2D(filters=n_filters, kernel_size = kernel_size ,strides= input_strides,\n",
    "    #                 kernel_initializer= kernel_init))\n",
    "    #model.add(Activation('relu'))\n",
    "\n",
    "    #model.add(Conv2D(filters=n_filters, kernel_size = kernel_size ,strides= input_strides,\n",
    "    #                 kernel_initializer= kernel_init))\n",
    "    #model.add(Activation('relu'))\n",
    "\n",
    "\n",
    "    model.add(MaxPooling2D(pool_size=max_poolsize))\n",
    "\n",
    "    #model.add(BatchNormalization())\n",
    "\n",
    "    model.add(Conv2D(filters=n_filters, kernel_size = kernel_size ,strides= input_strides,\n",
    "                     kernel_initializer= kernel_init))\n",
    "    model.add(Activation('relu'))\n",
    "    model.add(MaxPooling2D(pool_size=max_poolsize))\n",
    "\n",
    "    #model.add(BatchNormalization())\n",
    "\n",
    "    model.add(Conv2D(filters=n_filters, kernel_size = kernel_size ,strides= input_strides,\n",
    "                     kernel_initializer= kernel_init))\n",
    "    model.add(Activation('relu'))\n",
    "    model.add(MaxPooling2D(pool_size=max_poolsize))\n",
    "    \n",
    "    model.add(Conv2D(filters=n_filters, kernel_size = kernel_size ,strides= input_strides,\n",
    "                     kernel_initializer= kernel_init))\n",
    "    model.add(Activation('relu'))\n",
    "    model.add(MaxPooling2D(pool_size=max_poolsize))\n",
    "\n",
    "    model.add(Flatten())\n",
    "    model.add(Dense(n_hidden_units))\n",
    "    model.add(Activation('relu'))\n",
    "    model.add(Dense(n_output[1]-n_output[0], activation='linear'))\n",
    "\n",
    "    earlyStopping = keras.callbacks.EarlyStopping(monitor='val_loss', min_delta=early_stop_delta, patience=early_stop_patience, verbose=2, mode='auto')\n",
    "\n",
    "    model.summary()\n",
    "    return model"
   ]
  },
  {
   "cell_type": "code",
   "execution_count": 61,
   "metadata": {},
   "outputs": [],
   "source": [
    "def MAE(y_true, y_pred):\n",
    "    return K.mean(K.abs(y_pred-y_true)/K.abs(y_true))\n",
    "\n",
    "\n",
    "def data_normalize_v2_modulus(x_data,norm_type,data_mean,data_range,norm_axis,mat_axis):\n",
    "\n",
    "    if type(data_mean) == str:\n",
    "        data_mean = numpy.mean(x_data,axis=norm_axis)\n",
    "\n",
    "    if type(data_range) == str:\n",
    "        data_range = numpy.max(x_data,axis=norm_axis) - numpy.min(x_data,axis=norm_axis)\n",
    "    if norm_type == 'var':\n",
    "        data_range = numpy.var(x_data,axis=norm_axis)\n",
    "    if norm_type == 'max':\n",
    "        data_range = numpy.max(x_data,axis=norm_axis) - numpy.min(x_data,axis=norm_axis)\n",
    "\n",
    "\n",
    "    if norm_type =='mean':\n",
    "        x_data = (x_data-data_mean)/data_range\n",
    "\n",
    "    if norm_type == 'var':\n",
    "        #  data_range = numpy.var(x_data)\n",
    "        x_data = (x_data-data_mean)/data_range\n",
    "\n",
    "    if norm_type == 'max':\n",
    "        #   data_range = numpy.amax(x_data)\n",
    "        data_mean =  0\n",
    "        x_data[:,:,:,mat_axis] = ((x_data[:,:,:,mat_axis])-data_mean)/data_range[mat_axis]\n",
    "\n",
    "    return x_data, data_mean, data_range\n",
    "\n",
    "\n",
    "def data_normalize_y(x_data,norm_type,data_mean,data_range):\n",
    "\n",
    "    #print('Pre-norm Stats')\n",
    "    #print 'max:', np.amax(x_data)\n",
    "    #print 'min:', np.amin(x_data)\n",
    "    #print 'mean:', np.mean(x_data)\n",
    "\n",
    "    if type(data_mean) == str:\n",
    "        data_mean = numpy.mean(x_data)\n",
    "\n",
    "    if type(data_range) == str:\n",
    "        data_range = numpy.max(x_data) - numpy.min(x_data)\n",
    "\n",
    "    if norm_type =='mean':\n",
    "        x_data = (x_data-data_mean)/data_range\n",
    "\n",
    "    if norm_type == 'STD':\n",
    "        data_range = numpy.std(x_data)\n",
    "        x_data = (x_data-data_mean)/data_range\n",
    "\n",
    "    if norm_type == 'max':\n",
    "        #   data_range = numpy.amax(x_data)\n",
    "        data_mean =  0\n",
    "        x_data = (x_data-data_mean)/data_range\n",
    "\n",
    "        # print('Post-norm Stats')\n",
    "        # print 'max:', np.amax(x_data)\n",
    "        # print 'min:', np.amin(x_data)\n",
    "        # print 'mean:', np.mean(x_data)\n",
    "\n",
    "    return x_data, data_mean, data_range"
   ]
  },
  {
   "cell_type": "code",
   "execution_count": 82,
   "metadata": {},
   "outputs": [
    {
     "name": "stdout",
     "output_type": "stream",
     "text": [
      "_________________________________________________________________\n",
      "Layer (type)                 Output Shape              Param #   \n",
      "=================================================================\n",
      "conv2d_16 (Conv2D)           (None, 127, 127, 130)     2730      \n",
      "_________________________________________________________________\n",
      "activation_21 (Activation)   (None, 127, 127, 130)     0         \n",
      "_________________________________________________________________\n",
      "max_pooling2d_16 (MaxPooling (None, 63, 63, 130)       0         \n",
      "_________________________________________________________________\n",
      "conv2d_17 (Conv2D)           (None, 62, 62, 130)       67730     \n",
      "_________________________________________________________________\n",
      "activation_22 (Activation)   (None, 62, 62, 130)       0         \n",
      "_________________________________________________________________\n",
      "max_pooling2d_17 (MaxPooling (None, 31, 31, 130)       0         \n",
      "_________________________________________________________________\n",
      "flatten_6 (Flatten)          (None, 124930)            0         \n",
      "_________________________________________________________________\n",
      "dense_11 (Dense)             (None, 50)                6246550   \n",
      "_________________________________________________________________\n",
      "activation_23 (Activation)   (None, 50)                0         \n",
      "_________________________________________________________________\n",
      "dense_12 (Dense)             (None, 50)                2550      \n",
      "=================================================================\n",
      "Total params: 6,319,560\n",
      "Trainable params: 6,319,560\n",
      "Non-trainable params: 0\n",
      "_________________________________________________________________\n"
     ]
    }
   ],
   "source": [
    "model = create_model()\n",
    "model.compile(loss=cost_function, optimizer='adam', metrics=[\"MAE\"])"
   ]
  },
  {
   "cell_type": "code",
   "execution_count": 54,
   "metadata": {},
   "outputs": [],
   "source": [
    "ds = h5py.File(\"../data/subData2D.h5\",\"r\")"
   ]
  },
  {
   "cell_type": "code",
   "execution_count": 55,
   "metadata": {},
   "outputs": [],
   "source": [
    "X = ds[\"x0\"][0:15000]\n",
    "\n",
    "Y = ds[\"y0\"][0:15000]"
   ]
  },
  {
   "cell_type": "code",
   "execution_count": 56,
   "metadata": {},
   "outputs": [
    {
     "name": "stdout",
     "output_type": "stream",
     "text": [
      "(15000, 128, 128, 5)\n",
      "(15000, 50)\n"
     ]
    }
   ],
   "source": [
    "print(X.shape)\n",
    "print(Y.shape)"
   ]
  },
  {
   "cell_type": "code",
   "execution_count": 79,
   "metadata": {},
   "outputs": [],
   "source": [
    "# x_mean = np.mean(X,axis=(0,1,2),dtype=X.dtype)\n",
    "# x_max = np.amax(X,axis=(0,1,2))\n",
    "# # Modulus norm\n",
    "# X,xmean,xxrange = data_normalize_v2_modulus(X,norm_type = 'max',data_mean= x_mean,data_range= x_max[0],norm_axis=(0,1,2), mat_axis=0)\n",
    "# # Density norm\n",
    "# X,xmean,xxrange = data_normalize_v2_modulus(X,norm_type = 'max',data_mean= x_mean,data_range= x_max[1],norm_axis=(0,1,2), mat_axis=1)\n",
    "\n",
    "x_mean = np.mean(X,axis=(0,1,2),dtype=X.dtype)\n",
    "x_max = np.amax(X,axis=(0,1,2))\n",
    "x_min = np.amin(X,axis=(0,1,2))\n",
    "x_data_normed = (X-x_mean)/(x_max-x_min)"
   ]
  },
  {
   "cell_type": "code",
   "execution_count": 80,
   "metadata": {},
   "outputs": [
    {
     "name": "stderr",
     "output_type": "stream",
     "text": [
      "/home/ubuntu/anaconda3/envs/tfgpu/lib/python3.6/site-packages/ipykernel_launcher.py:4: RuntimeWarning: divide by zero encountered in true_divide\n",
      "  after removing the cwd from sys.path.\n",
      "/home/ubuntu/anaconda3/envs/tfgpu/lib/python3.6/site-packages/ipykernel_launcher.py:4: RuntimeWarning: invalid value encountered in true_divide\n",
      "  after removing the cwd from sys.path.\n"
     ]
    }
   ],
   "source": [
    "y_mean = np.mean(Y,axis=(0))\n",
    "y_max = np.amax(Y,axis=())\n",
    "y_min = np.amin(Y,axis = ())\n",
    "y_data_normed = (Y-y_mean)/(y_max-y_min)"
   ]
  },
  {
   "cell_type": "code",
   "execution_count": 65,
   "metadata": {},
   "outputs": [
    {
     "name": "stdout",
     "output_type": "stream",
     "text": [
      "Epoch 1/35\n"
     ]
    },
    {
     "name": "stderr",
     "output_type": "stream",
     "text": [
      "/home/ubuntu/anaconda3/envs/tfgpu/lib/python3.6/site-packages/numpy/core/numeric.py:538: ComplexWarning: Casting complex values to real discards the imaginary part\n",
      "  return array(a, dtype, copy=False, order=order)\n"
     ]
    },
    {
     "name": "stdout",
     "output_type": "stream",
     "text": [
      "12000/12000 [==============================] - 50s 4ms/step - loss: 0.0330 - mean_absolute_error: 0.0364\n",
      "Epoch 2/35\n",
      "12000/12000 [==============================] - 49s 4ms/step - loss: 0.0497 - mean_absolute_error: 0.0354\n",
      "Epoch 3/35\n",
      "12000/12000 [==============================] - 49s 4ms/step - loss: 0.0604 - mean_absolute_error: 0.0327\n",
      "Epoch 4/35\n",
      "12000/12000 [==============================] - 49s 4ms/step - loss: 0.0575 - mean_absolute_error: 0.0316\n",
      "Epoch 5/35\n",
      "12000/12000 [==============================] - 49s 4ms/step - loss: 0.0554 - mean_absolute_error: 0.0308\n",
      "Epoch 6/35\n",
      "12000/12000 [==============================] - 49s 4ms/step - loss: 0.0535 - mean_absolute_error: 0.0302\n",
      "Epoch 7/35\n",
      "12000/12000 [==============================] - 49s 4ms/step - loss: 0.0520 - mean_absolute_error: 0.0297\n",
      "Epoch 8/35\n",
      "12000/12000 [==============================] - 49s 4ms/step - loss: 0.0506 - mean_absolute_error: 0.0293\n",
      "Epoch 9/35\n",
      "12000/12000 [==============================] - 49s 4ms/step - loss: 0.0494 - mean_absolute_error: 0.0290\n",
      "Epoch 10/35\n",
      "12000/12000 [==============================] - 49s 4ms/step - loss: 0.0482 - mean_absolute_error: 0.0287\n",
      "Epoch 11/35\n",
      "12000/12000 [==============================] - 49s 4ms/step - loss: 0.0472 - mean_absolute_error: 0.0285\n",
      "Epoch 12/35\n",
      "12000/12000 [==============================] - 49s 4ms/step - loss: 0.0463 - mean_absolute_error: 0.0283\n",
      "Epoch 13/35\n",
      "12000/12000 [==============================] - 49s 4ms/step - loss: 0.0454 - mean_absolute_error: 0.0282\n",
      "Epoch 14/35\n",
      "12000/12000 [==============================] - 49s 4ms/step - loss: 0.0446 - mean_absolute_error: 0.0280\n",
      "Epoch 15/35\n",
      "12000/12000 [==============================] - 49s 4ms/step - loss: 0.0438 - mean_absolute_error: 0.0279\n",
      "Epoch 16/35\n",
      "12000/12000 [==============================] - 49s 4ms/step - loss: 0.0431 - mean_absolute_error: 0.0277\n",
      "Epoch 17/35\n",
      "12000/12000 [==============================] - 49s 4ms/step - loss: 0.0425 - mean_absolute_error: 0.0276\n",
      "Epoch 18/35\n",
      "12000/12000 [==============================] - 49s 4ms/step - loss: 0.0418 - mean_absolute_error: 0.0275\n",
      "Epoch 19/35\n",
      "12000/12000 [==============================] - 49s 4ms/step - loss: 0.0415 - mean_absolute_error: 0.0289\n",
      "Epoch 20/35\n",
      "12000/12000 [==============================] - 49s 4ms/step - loss: 0.0407 - mean_absolute_error: 0.0273\n",
      "Epoch 21/35\n",
      "12000/12000 [==============================] - 49s 4ms/step - loss: 0.0401 - mean_absolute_error: 0.0273\n",
      "Epoch 22/35\n",
      "12000/12000 [==============================] - 49s 4ms/step - loss: 0.0396 - mean_absolute_error: 0.0272\n",
      "Epoch 23/35\n",
      "12000/12000 [==============================] - 49s 4ms/step - loss: 0.0391 - mean_absolute_error: 0.0271\n",
      "Epoch 24/35\n",
      "12000/12000 [==============================] - 49s 4ms/step - loss: 0.0386 - mean_absolute_error: 0.0271\n",
      "Epoch 25/35\n",
      "12000/12000 [==============================] - 49s 4ms/step - loss: 0.0382 - mean_absolute_error: 0.0270\n",
      "Epoch 26/35\n",
      "12000/12000 [==============================] - 49s 4ms/step - loss: 0.0378 - mean_absolute_error: 0.0271\n",
      "Epoch 27/35\n",
      "12000/12000 [==============================] - 49s 4ms/step - loss: 0.0373 - mean_absolute_error: 0.0269\n",
      "Epoch 28/35\n",
      "12000/12000 [==============================] - 49s 4ms/step - loss: 0.0370 - mean_absolute_error: 0.0270\n",
      "Epoch 29/35\n",
      "12000/12000 [==============================] - 49s 4ms/step - loss: 0.0366 - mean_absolute_error: 0.0270\n",
      "Epoch 30/35\n",
      "12000/12000 [==============================] - 49s 4ms/step - loss: 0.0362 - mean_absolute_error: 0.0269\n",
      "Epoch 31/35\n",
      "12000/12000 [==============================] - 49s 4ms/step - loss: 0.0358 - mean_absolute_error: 0.0268\n",
      "Epoch 32/35\n",
      "12000/12000 [==============================] - 49s 4ms/step - loss: 0.0355 - mean_absolute_error: 0.0268\n",
      "Epoch 33/35\n",
      "12000/12000 [==============================] - 49s 4ms/step - loss: 0.0352 - mean_absolute_error: 0.0267\n",
      "Epoch 34/35\n",
      "12000/12000 [==============================] - 49s 4ms/step - loss: 0.0348 - mean_absolute_error: 0.0267\n",
      "Epoch 35/35\n",
      "12000/12000 [==============================] - 49s 4ms/step - loss: 0.0346 - mean_absolute_error: 0.0268\n"
     ]
    },
    {
     "data": {
      "text/plain": [
       "<keras.callbacks.History at 0x7fd94060d908>"
      ]
     },
     "execution_count": 65,
     "metadata": {},
     "output_type": "execute_result"
    }
   ],
   "source": [
    "X_train,Y_train = x_data_normed[:12000],y_data_normed[:12000]\n",
    "#model.load_weights(\"model_12000.h5\")\n",
    "model.fit(X_train,Y_train, epochs=25, batch_size=64, verbose=1)"
   ]
  },
  {
   "cell_type": "code",
   "execution_count": 78,
   "metadata": {},
   "outputs": [],
   "source": [
    "model.save(\"model_12000_all_normed_c3_f130.h5\")"
   ]
  },
  {
   "cell_type": "code",
   "execution_count": 69,
   "metadata": {},
   "outputs": [],
   "source": [
    "X_test,Y_test = x_data_normed[12000:],y_data_normed[12000:]\n",
    "inputMatrix = np.load(\"../data/inputMatrix.npz\")\n",
    "Solution = np.load(\"../data/Solution.npz\")"
   ]
  },
  {
   "cell_type": "code",
   "execution_count": 70,
   "metadata": {},
   "outputs": [
    {
     "name": "stdout",
     "output_type": "stream",
     "text": [
      "------inputMatrix.npz------\n",
      "inputMatrix:(22, 128, 128, 5)\n",
      "\n",
      "------Solution.npz------\n",
      "Qp:(22, 2)\n",
      "frequency1:(22, 882)\n",
      "Mp:()\n"
     ]
    }
   ],
   "source": [
    "print(\"------inputMatrix.npz------\")\n",
    "for key in list(inputMatrix.keys()):\n",
    "    print(key+\":\",end = \"\")\n",
    "    print(inputMatrix[key].shape)\n",
    "print(\"\\n------Solution.npz------\")\n",
    "for key in list(Solution.keys()):\n",
    "    print(key+\":\",end = \"\")\n",
    "    print(Solution[key].shape)"
   ]
  },
  {
   "cell_type": "code",
   "execution_count": 71,
   "metadata": {},
   "outputs": [
    {
     "name": "stdout",
     "output_type": "stream",
     "text": [
      "(22, 128, 128, 5)\n",
      "(22, 50)\n"
     ]
    }
   ],
   "source": [
    "inputMatrix = inputMatrix[\"inputMatrix\"]\n",
    "Solution = np.real(Solution[list(Solution.keys())[1]][:,0:50])\n",
    "print(inputMatrix.shape)\n",
    "print(Solution.shape)"
   ]
  },
  {
   "cell_type": "code",
   "execution_count": 72,
   "metadata": {},
   "outputs": [
    {
     "name": "stdout",
     "output_type": "stream",
     "text": [
      "(5,)\n"
     ]
    }
   ],
   "source": [
    "in_mean = np.mean(inputMatrix,axis=(0,1,2))\n",
    "print(in_mean.shape)"
   ]
  },
  {
   "cell_type": "code",
   "execution_count": 73,
   "metadata": {},
   "outputs": [
    {
     "name": "stdout",
     "output_type": "stream",
     "text": [
      "(5,)\n"
     ]
    }
   ],
   "source": [
    "in_max = np.amax(inputMatrix,axis=(0,1,2))\n",
    "print(in_max.shape)"
   ]
  },
  {
   "cell_type": "code",
   "execution_count": 74,
   "metadata": {},
   "outputs": [
    {
     "name": "stdout",
     "output_type": "stream",
     "text": [
      "(50,)\n"
     ]
    }
   ],
   "source": [
    "out_mean = np.mean(Solution,axis = (0))\n",
    "print(out_mean.shape)"
   ]
  },
  {
   "cell_type": "code",
   "execution_count": 75,
   "metadata": {},
   "outputs": [
    {
     "name": "stdout",
     "output_type": "stream",
     "text": [
      "(50,)\n"
     ]
    }
   ],
   "source": [
    "out_max = np.amax(Solution,axis = (0))\n",
    "print(out_max.shape)"
   ]
  },
  {
   "cell_type": "code",
   "execution_count": 76,
   "metadata": {},
   "outputs": [
    {
     "name": "stdout",
     "output_type": "stream",
     "text": [
      "(22, 128, 128, 5)\n",
      "(22, 50)\n"
     ]
    }
   ],
   "source": [
    "# normed_input,_,_=data_normalize_v2_modulus(inputMatrix,norm_type=\"max\",data_mean=in_mean,data_range=in_max,norm_axis=(0,1,2),mat_axis=0)\n",
    "# normed_input,_,_=data_normalize_v2_modulus(inputMatrix,norm_type=\"max\",data_mean=in_mean,data_range=in_max,norm_axis=(0,1,2),mat_axis=1)\n",
    "# # normed_input,_,_=data_normalize_v2_modulus(inputMatrix,norm_type=\"max\",data_mean=in_mean,data_range=in_max,norm_axis=(0,1,2),mat_axis=2)\n",
    "# # normed_input,_,_=data_normalize_v2_modulus(inputMatrix,norm_type=\"max\",data_mean=in_mean,data_range=in_max,norm_axis=(0,1,2),mat_axis=3)\n",
    "# # normed_input,_,_=data_normalize_v2_modulus(inputMatrix,norm_type=\"max\",data_mean=in_mean,data_range=in_max,norm_axis=(0,1,2),mat_axis=4)\n",
    "# print(normed_input.shape)\n",
    "x_test_normed = (inputMatrix-in_mean)/in_max\n",
    "y_test_normed = (Solution-out_mean)/out_max\n",
    "print(x_test_normed.shape)\n",
    "print(y_test_normed.shape)"
   ]
  },
  {
   "cell_type": "code",
   "execution_count": 43,
   "metadata": {},
   "outputs": [
    {
     "name": "stdout",
     "output_type": "stream",
     "text": [
      "(22, 50)\n"
     ]
    }
   ],
   "source": [
    "# normed_output,_,_ = data_normalize_y(Solution,norm_type=\"max\",data_mean=out_mean,data_range=out_max)\n",
    "# print(normed_output.shape)"
   ]
  },
  {
   "cell_type": "code",
   "execution_count": 77,
   "metadata": {},
   "outputs": [
    {
     "name": "stdout",
     "output_type": "stream",
     "text": [
      "22/22 [==============================] - 0s 3ms/step\n",
      "0.14336954057216644\n",
      "0.10070051997900009\n"
     ]
    }
   ],
   "source": [
    "loss,mae=model.evaluate(x_test_normed,y_test_normed)\n",
    "print(loss)\n",
    "print(mae)"
   ]
  },
  {
   "cell_type": "code",
   "execution_count": 52,
   "metadata": {},
   "outputs": [
    {
     "data": {
      "text/plain": [
       "1.8406311811786182e+20"
      ]
     },
     "execution_count": 52,
     "metadata": {},
     "output_type": "execute_result"
    }
   ],
   "source": []
  },
  {
   "cell_type": "code",
   "execution_count": 53,
   "metadata": {},
   "outputs": [
    {
     "data": {
      "text/plain": [
       "16565.7126171875"
      ]
     },
     "execution_count": 53,
     "metadata": {},
     "output_type": "execute_result"
    }
   ],
   "source": []
  },
  {
   "cell_type": "code",
   "execution_count": null,
   "metadata": {},
   "outputs": [],
   "source": []
  }
 ],
 "metadata": {
  "kernelspec": {
   "display_name": "Python [conda env:tfgpu]",
   "language": "python",
   "name": "conda-env-tfgpu-py"
  },
  "language_info": {
   "codemirror_mode": {
    "name": "ipython",
    "version": 3
   },
   "file_extension": ".py",
   "mimetype": "text/x-python",
   "name": "python",
   "nbconvert_exporter": "python",
   "pygments_lexer": "ipython3",
   "version": "3.6.9"
  }
 },
 "nbformat": 4,
 "nbformat_minor": 2
}
