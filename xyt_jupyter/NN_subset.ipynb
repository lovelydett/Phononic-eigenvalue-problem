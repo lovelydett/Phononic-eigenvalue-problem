{
 "cells": [
  {
   "cell_type": "code",
   "execution_count": 1,
   "metadata": {},
   "outputs": [
    {
     "name": "stderr",
     "output_type": "stream",
     "text": [
      "Using TensorFlow backend.\n"
     ]
    }
   ],
   "source": [
    "import tensorflow as tf \n",
    "import numpy as np\n",
    "import keras\n",
    "import keras.backend as K \n",
    "from keras.models import Sequential\n",
    "from keras.layers import Dense, Dropout, Activation, Flatten, BatchNormalization\n",
    "from keras.layers import Conv2D, GlobalMaxPooling1D, MaxPooling2D\n",
    "from keras.optimizers import Adam\n",
    "#from keras.utils.training_utils import multi_gpu_model"
   ]
  },
  {
   "cell_type": "code",
   "execution_count": 2,
   "metadata": {},
   "outputs": [],
   "source": [
    "import numpy\n",
    "import csv\n",
    "import h5py\n",
    "import gc \n",
    "import argparse\n",
    "import os \n",
    "import psutil"
   ]
  },
  {
   "cell_type": "code",
   "execution_count": 3,
   "metadata": {},
   "outputs": [],
   "source": [
    "os.environ[\"CUDA_VISIBLE_DEVICES\"] = \"0\"\n",
    "\n",
    "gpu_options = tf.GPUOptions(allow_growth=True)\n",
    "\n",
    "sess = tf.Session(config=tf.ConfigProto(gpu_options=gpu_options))\n"
   ]
  },
  {
   "cell_type": "code",
   "execution_count": 4,
   "metadata": {},
   "outputs": [],
   "source": [
    "n_hidden_units = 50\n",
    "n_convpool_layers = 1\n",
    "n_convlayers = 2\n",
    "n_reglayers = 2\n",
    "max_poolsize = (2,2)\n",
    "train_set_ratio = 0.7\n",
    "valid_set_ratio = 0.15\n",
    "set_split_ratio34 = 0.5\n",
    "drop_rate = 0.0\n",
    "n_filters = 130 #130 before \n",
    "reg_factor = 0.0\n",
    "kernel_size = (2,2)\n",
    "input_strides = 1\n",
    "kernel_init = 'uniform'\n",
    "cost_function = 'mean_squared_error'\n",
    "batch_size = 64#128\n",
    "feed_batch_size = 256\n",
    "input_sample_shape = [128,128,5]\n",
    "#target_sample_shape = [50]\n",
    "n_epochs = 35\n",
    "n_output = [0,50]\n",
    "n_set1 = 10000\n",
    "n_set2 = None\n",
    "n_set100 = 10000 \n",
    "n_post_test = 5000\n",
    "xnorm_axis = (0,1,2,3)\n",
    "early_stop_delta = 0.01 # 0.01 change or above is considered improvement\n",
    "early_stop_patience = 10 \n"
   ]
  },
  {
   "cell_type": "code",
   "execution_count": 7,
   "metadata": {},
   "outputs": [],
   "source": [
    "def create_model():\n",
    "    model=Sequential()\n",
    "\n",
    "    model.add(Conv2D(filters=n_filters, kernel_size = kernel_size ,strides= input_strides,\n",
    "                     input_shape=(128,128,5),kernel_initializer= kernel_init))\n",
    "    model.add(Activation('relu'))\n",
    "\n",
    "    #model.add(Conv2D(filters=n_filters, kernel_size = kernel_size ,strides= input_strides,\n",
    "    #                 kernel_initializer= kernel_init))\n",
    "    #model.add(Activation('relu'))\n",
    "\n",
    "    #model.add(Conv2D(filters=n_filters, kernel_size = kernel_size ,strides= input_strides,\n",
    "    #                 kernel_initializer= kernel_init))\n",
    "    #model.add(Activation('relu'))\n",
    "\n",
    "\n",
    "    model.add(MaxPooling2D(pool_size=max_poolsize))\n",
    "\n",
    "    #model.add(BatchNormalization())\n",
    "\n",
    "    model.add(Conv2D(filters=n_filters, kernel_size = kernel_size ,strides= input_strides,\n",
    "                     kernel_initializer= kernel_init))\n",
    "    model.add(Activation('relu'))\n",
    "    model.add(MaxPooling2D(pool_size=max_poolsize))\n",
    "\n",
    "    #model.add(BatchNormalization())\n",
    "\n",
    "    model.add(Conv2D(filters=n_filters, kernel_size = kernel_size ,strides= input_strides,\n",
    "                     kernel_initializer= kernel_init))\n",
    "    model.add(Activation('relu'))\n",
    "    model.add(MaxPooling2D(pool_size=max_poolsize))\n",
    "    \n",
    "#     model.add(Conv2D(filters=n_filters, kernel_size = kernel_size ,strides= input_strides,\n",
    "#                      kernel_initializer= kernel_init))\n",
    "#     model.add(Activation('relu'))\n",
    "    #model.add(MaxPooling2D(pool_size=max_poolsize))\n",
    "\n",
    "    model.add(Flatten())\n",
    "    model.add(Dense(n_hidden_units))\n",
    "    model.add(Activation('relu'))\n",
    "    model.add(Dense(50, activation='linear'))\n",
    "\n",
    "    earlyStopping = keras.callbacks.EarlyStopping(monitor='val_loss', min_delta=early_stop_delta, patience=early_stop_patience, verbose=2, mode='auto')\n",
    "\n",
    "    model.summary()\n",
    "    return model"
   ]
  },
  {
   "cell_type": "code",
   "execution_count": 61,
   "metadata": {},
   "outputs": [],
   "source": []
  },
  {
   "cell_type": "code",
   "execution_count": 8,
   "metadata": {},
   "outputs": [
    {
     "name": "stdout",
     "output_type": "stream",
     "text": [
      "_________________________________________________________________\n",
      "Layer (type)                 Output Shape              Param #   \n",
      "=================================================================\n",
      "conv2d_4 (Conv2D)            (None, 127, 127, 130)     2730      \n",
      "_________________________________________________________________\n",
      "activation_5 (Activation)    (None, 127, 127, 130)     0         \n",
      "_________________________________________________________________\n",
      "max_pooling2d_4 (MaxPooling2 (None, 63, 63, 130)       0         \n",
      "_________________________________________________________________\n",
      "conv2d_5 (Conv2D)            (None, 62, 62, 130)       67730     \n",
      "_________________________________________________________________\n",
      "activation_6 (Activation)    (None, 62, 62, 130)       0         \n",
      "_________________________________________________________________\n",
      "max_pooling2d_5 (MaxPooling2 (None, 31, 31, 130)       0         \n",
      "_________________________________________________________________\n",
      "conv2d_6 (Conv2D)            (None, 30, 30, 130)       67730     \n",
      "_________________________________________________________________\n",
      "activation_7 (Activation)    (None, 30, 30, 130)       0         \n",
      "_________________________________________________________________\n",
      "max_pooling2d_6 (MaxPooling2 (None, 15, 15, 130)       0         \n",
      "_________________________________________________________________\n",
      "flatten_2 (Flatten)          (None, 29250)             0         \n",
      "_________________________________________________________________\n",
      "dense_3 (Dense)              (None, 50)                1462550   \n",
      "_________________________________________________________________\n",
      "activation_8 (Activation)    (None, 50)                0         \n",
      "_________________________________________________________________\n",
      "dense_4 (Dense)              (None, 50)                2550      \n",
      "=================================================================\n",
      "Total params: 1,603,290\n",
      "Trainable params: 1,603,290\n",
      "Non-trainable params: 0\n",
      "_________________________________________________________________\n"
     ]
    }
   ],
   "source": [
    "model = create_model()\n",
    "model.compile(loss=cost_function, optimizer='adam', metrics=[\"MAE\"])"
   ]
  },
  {
   "cell_type": "code",
   "execution_count": 9,
   "metadata": {},
   "outputs": [],
   "source": [
    "ds = h5py.File(\"../data/data2D%d.h5\",\"r\",driver='family', memb_size=2500*10**6)[\"random\"]"
   ]
  },
  {
   "cell_type": "code",
   "execution_count": 10,
   "metadata": {},
   "outputs": [],
   "source": [
    "X = ds[\"x0\"][0:15000]\n",
    "\n",
    "Y = ds[\"y0\"][0:15000]"
   ]
  },
  {
   "cell_type": "code",
   "execution_count": 11,
   "metadata": {},
   "outputs": [
    {
     "name": "stdout",
     "output_type": "stream",
     "text": [
      "(15000, 128, 128, 5)\n",
      "(15000, 50)\n"
     ]
    }
   ],
   "source": [
    "print(X.shape)\n",
    "print(Y.shape)"
   ]
  },
  {
   "cell_type": "code",
   "execution_count": 12,
   "metadata": {},
   "outputs": [],
   "source": [
    "# x_mean = np.mean(X,axis=(0,1,2),dtype=X.dtype)\n",
    "# x_max = np.amax(X,axis=(0,1,2))\n",
    "# # Modulus norm\n",
    "# X,xmean,xxrange = data_normalize_v2_modulus(X,norm_type = 'max',data_mean= x_mean,data_range= x_max[0],norm_axis=(0,1,2), mat_axis=0)\n",
    "# # Density norm\n",
    "# X,xmean,xxrange = data_normalize_v2_modulus(X,norm_type = 'max',data_mean= x_mean,data_range= x_max[1],norm_axis=(0,1,2), mat_axis=1)\n",
    "\n",
    "x_mean = np.mean(X,axis=(0,1,2),dtype=X.dtype)\n",
    "x_max = np.amax(X,axis=(0,1,2))\n",
    "x_min = np.amin(X,axis=(0,1,2))\n",
    "x_data_normed = (X-x_mean)/x_max"
   ]
  },
  {
   "cell_type": "code",
   "execution_count": 13,
   "metadata": {},
   "outputs": [],
   "source": [
    "y_mean = np.mean(Y)\n",
    "y_max = np.amax(Y,axis=())\n",
    "y_min = np.amin(Y,axis = ())\n",
    "y_data_normed = (Y-y_mean)/y_max"
   ]
  },
  {
   "cell_type": "code",
   "execution_count": 14,
   "metadata": {},
   "outputs": [
    {
     "name": "stdout",
     "output_type": "stream",
     "text": [
      "(15000, 128, 128, 5)\n",
      "(15000, 50)\n"
     ]
    }
   ],
   "source": [
    "print(x_data_normed.shape)\n",
    "print(y_data_normed.shape)"
   ]
  },
  {
   "cell_type": "code",
   "execution_count": null,
   "metadata": {},
   "outputs": [
    {
     "name": "stderr",
     "output_type": "stream",
     "text": [
      "W0804 19:12:38.946366 139674320226048 deprecation_wrapper.py:119] From /home/ubuntu/anaconda3/envs/tensorflow_p36/lib/python3.6/site-packages/keras/backend/tensorflow_backend.py:986: The name tf.assign_add is deprecated. Please use tf.compat.v1.assign_add instead.\n",
      "\n",
      "W0804 19:12:39.082068 139674320226048 deprecation_wrapper.py:119] From /home/ubuntu/anaconda3/envs/tensorflow_p36/lib/python3.6/site-packages/keras/backend/tensorflow_backend.py:973: The name tf.assign is deprecated. Please use tf.compat.v1.assign instead.\n",
      "\n"
     ]
    },
    {
     "name": "stdout",
     "output_type": "stream",
     "text": [
      "Epoch 1/25\n"
     ]
    },
    {
     "name": "stderr",
     "output_type": "stream",
     "text": [
      "/home/ubuntu/anaconda3/envs/tensorflow_p36/lib/python3.6/site-packages/numpy/core/numeric.py:538: ComplexWarning: Casting complex values to real discards the imaginary part\n",
      "  return array(a, dtype, copy=False, order=order)\n"
     ]
    },
    {
     "name": "stdout",
     "output_type": "stream",
     "text": [
      " 3008/12000 [======>.......................] - ETA: 38s - loss: 1.4985 - mean_absolute_error: 0.4749"
     ]
    }
   ],
   "source": [
    "X_train,Y_train = x_data_normed[:12000],y_data_normed[:12000]\n",
    "#model.load_weights(\"model_12000.h5\")\n",
    "model.fit(X_train,Y_train, epochs=25, batch_size=64, verbose=1)"
   ]
  },
  {
   "cell_type": "code",
   "execution_count": 102,
   "metadata": {},
   "outputs": [],
   "source": [
    "model.save(\"model_12000_all_normed_c4_f130.h5\")"
   ]
  },
  {
   "cell_type": "code",
   "execution_count": 69,
   "metadata": {},
   "outputs": [],
   "source": [
    "X_test,Y_test = x_data_normed[12000:],y_data_normed[12000:]\n",
    "inputMatrix = np.load(\"../data/inputMatrix.npz\")\n",
    "Solution = np.load(\"../data/Solution.npz\")"
   ]
  },
  {
   "cell_type": "code",
   "execution_count": 70,
   "metadata": {},
   "outputs": [
    {
     "name": "stdout",
     "output_type": "stream",
     "text": [
      "------inputMatrix.npz------\n",
      "inputMatrix:(22, 128, 128, 5)\n",
      "\n",
      "------Solution.npz------\n",
      "Qp:(22, 2)\n",
      "frequency1:(22, 882)\n",
      "Mp:()\n"
     ]
    }
   ],
   "source": [
    "print(\"------inputMatrix.npz------\")\n",
    "for key in list(inputMatrix.keys()):\n",
    "    print(key+\":\",end = \"\")\n",
    "    print(inputMatrix[key].shape)\n",
    "print(\"\\n------Solution.npz------\")\n",
    "for key in list(Solution.keys()):\n",
    "    print(key+\":\",end = \"\")\n",
    "    print(Solution[key].shape)"
   ]
  },
  {
   "cell_type": "code",
   "execution_count": 71,
   "metadata": {},
   "outputs": [
    {
     "name": "stdout",
     "output_type": "stream",
     "text": [
      "(22, 128, 128, 5)\n",
      "(22, 50)\n"
     ]
    }
   ],
   "source": [
    "inputMatrix = inputMatrix[\"inputMatrix\"]\n",
    "Solution = np.real(Solution[list(Solution.keys())[1]][:,0:50])\n",
    "print(inputMatrix.shape)\n",
    "print(Solution.shape)"
   ]
  },
  {
   "cell_type": "code",
   "execution_count": 72,
   "metadata": {},
   "outputs": [
    {
     "name": "stdout",
     "output_type": "stream",
     "text": [
      "(5,)\n"
     ]
    }
   ],
   "source": [
    "in_mean = np.mean(inputMatrix,axis=(0,1,2))\n",
    "print(in_mean.shape)"
   ]
  },
  {
   "cell_type": "code",
   "execution_count": 73,
   "metadata": {},
   "outputs": [
    {
     "name": "stdout",
     "output_type": "stream",
     "text": [
      "(5,)\n"
     ]
    }
   ],
   "source": [
    "in_max = np.amax(inputMatrix,axis=(0,1,2))\n",
    "print(in_max.shape)"
   ]
  },
  {
   "cell_type": "code",
   "execution_count": 74,
   "metadata": {},
   "outputs": [
    {
     "name": "stdout",
     "output_type": "stream",
     "text": [
      "(50,)\n"
     ]
    }
   ],
   "source": [
    "out_mean = np.mean(Solution,axis = (0))\n",
    "print(out_mean.shape)"
   ]
  },
  {
   "cell_type": "code",
   "execution_count": 75,
   "metadata": {},
   "outputs": [
    {
     "name": "stdout",
     "output_type": "stream",
     "text": [
      "(50,)\n"
     ]
    }
   ],
   "source": [
    "out_max = np.amax(Solution,axis = (0))\n",
    "print(out_max.shape)"
   ]
  },
  {
   "cell_type": "code",
   "execution_count": 106,
   "metadata": {},
   "outputs": [
    {
     "ename": "ValueError",
     "evalue": "operands could not be broadcast together with shapes (22,50) (15000,50) ",
     "output_type": "error",
     "traceback": [
      "\u001b[0;31m---------------------------------------------------------------------------\u001b[0m",
      "\u001b[0;31mValueError\u001b[0m                                Traceback (most recent call last)",
      "\u001b[0;32m<ipython-input-106-0567990f4099>\u001b[0m in \u001b[0;36m<module>\u001b[0;34m\u001b[0m\n\u001b[1;32m      6\u001b[0m \u001b[0;31m# print(normed_input.shape)\u001b[0m\u001b[0;34m\u001b[0m\u001b[0;34m\u001b[0m\u001b[0;34m\u001b[0m\u001b[0m\n\u001b[1;32m      7\u001b[0m \u001b[0mx_test_normed\u001b[0m \u001b[0;34m=\u001b[0m \u001b[0;34m(\u001b[0m\u001b[0minputMatrix\u001b[0m\u001b[0;34m-\u001b[0m\u001b[0mx_mean\u001b[0m\u001b[0;34m)\u001b[0m\u001b[0;34m/\u001b[0m\u001b[0mx_max\u001b[0m\u001b[0;34m\u001b[0m\u001b[0;34m\u001b[0m\u001b[0m\n\u001b[0;32m----> 8\u001b[0;31m \u001b[0my_test_normed\u001b[0m \u001b[0;34m=\u001b[0m \u001b[0;34m(\u001b[0m\u001b[0mSolution\u001b[0m\u001b[0;34m-\u001b[0m\u001b[0my_mean\u001b[0m\u001b[0;34m)\u001b[0m\u001b[0;34m/\u001b[0m\u001b[0my_max\u001b[0m\u001b[0;34m\u001b[0m\u001b[0;34m\u001b[0m\u001b[0m\n\u001b[0m\u001b[1;32m      9\u001b[0m \u001b[0mprint\u001b[0m\u001b[0;34m(\u001b[0m\u001b[0mx_test_normed\u001b[0m\u001b[0;34m.\u001b[0m\u001b[0mshape\u001b[0m\u001b[0;34m)\u001b[0m\u001b[0;34m\u001b[0m\u001b[0;34m\u001b[0m\u001b[0m\n\u001b[1;32m     10\u001b[0m \u001b[0mprint\u001b[0m\u001b[0;34m(\u001b[0m\u001b[0my_test_normed\u001b[0m\u001b[0;34m.\u001b[0m\u001b[0mshape\u001b[0m\u001b[0;34m)\u001b[0m\u001b[0;34m\u001b[0m\u001b[0;34m\u001b[0m\u001b[0m\n",
      "\u001b[0;31mValueError\u001b[0m: operands could not be broadcast together with shapes (22,50) (15000,50) "
     ]
    }
   ],
   "source": [
    "# normed_input,_,_=data_normalize_v2_modulus(inputMatrix,norm_type=\"max\",data_mean=in_mean,data_range=in_max,norm_axis=(0,1,2),mat_axis=0)\n",
    "# normed_input,_,_=data_normalize_v2_modulus(inputMatrix,norm_type=\"max\",data_mean=in_mean,data_range=in_max,norm_axis=(0,1,2),mat_axis=1)\n",
    "# # normed_input,_,_=data_normalize_v2_modulus(inputMatrix,norm_type=\"max\",data_mean=in_mean,data_range=in_max,norm_axis=(0,1,2),mat_axis=2)\n",
    "# # normed_input,_,_=data_normalize_v2_modulus(inputMatrix,norm_type=\"max\",data_mean=in_mean,data_range=in_max,norm_axis=(0,1,2),mat_axis=3)\n",
    "# # normed_input,_,_=data_normalize_v2_modulus(inputMatrix,norm_type=\"max\",data_mean=in_mean,data_range=in_max,norm_axis=(0,1,2),mat_axis=4)\n",
    "# print(normed_input.shape)\n",
    "x_test_normed = (inputMatrix-x_mean)/x_max\n",
    "y_test_normed = (Solution-y_mean)/y_max\n",
    "print(x_test_normed.shape)\n",
    "print(y_test_normed.shape)"
   ]
  },
  {
   "cell_type": "code",
   "execution_count": 43,
   "metadata": {},
   "outputs": [
    {
     "name": "stdout",
     "output_type": "stream",
     "text": [
      "(22, 50)\n"
     ]
    }
   ],
   "source": [
    "# normed_output,_,_ = data_normalize_y(Solution,norm_type=\"max\",data_mean=out_mean,data_range=out_max)\n",
    "# print(normed_output.shape)"
   ]
  },
  {
   "cell_type": "code",
   "execution_count": 77,
   "metadata": {},
   "outputs": [
    {
     "name": "stdout",
     "output_type": "stream",
     "text": [
      "22/22 [==============================] - 0s 3ms/step\n",
      "0.14336954057216644\n",
      "0.10070051997900009\n"
     ]
    }
   ],
   "source": [
    "loss,mae=model.evaluate(x_test_normed,y_test_normed)\n",
    "print(loss)\n",
    "print(mae)"
   ]
  },
  {
   "cell_type": "code",
   "execution_count": 52,
   "metadata": {},
   "outputs": [
    {
     "data": {
      "text/plain": [
       "1.8406311811786182e+20"
      ]
     },
     "execution_count": 52,
     "metadata": {},
     "output_type": "execute_result"
    }
   ],
   "source": []
  },
  {
   "cell_type": "code",
   "execution_count": 53,
   "metadata": {},
   "outputs": [
    {
     "data": {
      "text/plain": [
       "16565.7126171875"
      ]
     },
     "execution_count": 53,
     "metadata": {},
     "output_type": "execute_result"
    }
   ],
   "source": []
  },
  {
   "cell_type": "code",
   "execution_count": null,
   "metadata": {},
   "outputs": [],
   "source": []
  }
 ],
 "metadata": {
  "kernelspec": {
   "display_name": "ML",
   "language": "python",
   "name": "ml"
  },
  "language_info": {
   "codemirror_mode": {
    "name": "ipython",
    "version": 3
   },
   "file_extension": ".py",
   "mimetype": "text/x-python",
   "name": "python",
   "nbconvert_exporter": "python",
   "pygments_lexer": "ipython3",
   "version": "3.7.3"
  }
 },
 "nbformat": 4,
 "nbformat_minor": 2
}
