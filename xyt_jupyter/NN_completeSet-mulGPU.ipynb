{
 "cells": [
  {
   "cell_type": "code",
   "execution_count": 1,
   "metadata": {},
   "outputs": [
    {
     "name": "stderr",
     "output_type": "stream",
     "text": [
      "Using TensorFlow backend.\n"
     ]
    }
   ],
   "source": [
    "import tensorflow as tf \n",
    "import numpy as np\n",
    "import keras\n",
    "import keras.backend as K \n",
    "from keras.models import Sequential\n",
    "from keras.layers import Dense, Dropout, Activation, Flatten, BatchNormalization\n",
    "from keras.layers import Conv2D, GlobalMaxPooling1D, MaxPooling2D\n",
    "from keras.optimizers import Adam\n",
    "from keras.utils.training_utils import multi_gpu_model"
   ]
  },
  {
   "cell_type": "code",
   "execution_count": 2,
   "metadata": {},
   "outputs": [],
   "source": [
    "import numpy\n",
    "import csv\n",
    "import h5py\n",
    "import gc \n",
    "import argparse\n",
    "import os \n",
    "import psutil"
   ]
  },
  {
   "cell_type": "code",
   "execution_count": 3,
   "metadata": {},
   "outputs": [],
   "source": [
    "os.environ[\"CUDA_VISIBLE_DEVICES\"] = \"0,1\"\n",
    "\n",
    "gpu_options = tf.GPUOptions(allow_growth=True)\n",
    "\n",
    "sess = tf.Session(config=tf.ConfigProto(gpu_options=gpu_options))"
   ]
  },
  {
   "cell_type": "code",
   "execution_count": 4,
   "metadata": {},
   "outputs": [],
   "source": [
    "n_hidden_units = 50\n",
    "n_convpool_layers = 1\n",
    "n_convlayers = 2\n",
    "n_reglayers = 2\n",
    "max_poolsize = (2,2)\n",
    "train_set_ratio = 0.7\n",
    "valid_set_ratio = 0.15\n",
    "set_split_ratio34 = 0.5\n",
    "drop_rate = 0.0\n",
    "n_filters = 130 #130 before \n",
    "reg_factor = 0.0\n",
    "kernel_size = (2,2)\n",
    "input_strides = 1\n",
    "kernel_init = 'uniform'\n",
    "cost_function = 'mean_squared_error'\n",
    "batch_size = 64#128\n",
    "feed_batch_size = 256\n",
    "input_sample_shape = [128,128,5]\n",
    "#target_sample_shape = [50]\n",
    "n_epochs = 35\n",
    "n_output = [0,50]\n",
    "n_set1 = 10000\n",
    "n_set2 = None\n",
    "n_set100 = 10000 \n",
    "n_post_test = 5000\n",
    "xnorm_axis = (0,1,2,3)\n",
    "early_stop_delta = 0.01 # 0.01 change or above is considered improvement\n",
    "early_stop_patience = 10 \n"
   ]
  },
  {
   "cell_type": "code",
   "execution_count": 27,
   "metadata": {},
   "outputs": [],
   "source": [
    "def get_x_mean_n_range():\n",
    "    ds = ds = h5py.File(\"../data/data2D%d.h5\",\"r\",driver='family', memb_size=2500*10**6)\n",
    "    x_min = np.zeros((1,5),dtype = ds[\"random\"][\"x0\"].dtype)\n",
    "    x_max = np.zeros((1,5),dtype = ds[\"random\"][\"x0\"].dtype)\n",
    "    x_mean = np.zeros((1,5),dtype = ds[\"random\"][\"x0\"].dtype)\n",
    "    count = 0\n",
    "    for key1 in list(ds.keys()):\n",
    "        for key2 in ds[key1].keys():\n",
    "            if key2.find(\"x\")>=0 :\n",
    "                temp_x = ds[key1][key2][:]\n",
    "                if temp_x.shape[0] != 64:\n",
    "                    continue\n",
    "                    \n",
    "                #handle mean\n",
    "                count+=1\n",
    "                x_mean += np.mean(temp_x,axis=(0,1,2))\n",
    "                \n",
    "                #handle max\n",
    "                temp_max = np.amax(temp_x,axis=(0,1,2))\n",
    "                temp_batch = np.vstack([temp_max,x_max])\n",
    "                x_max = np.amax(temp_batch,axis=(0))\n",
    "                \n",
    "                #handle min\n",
    "                temp_min = np.amin(temp_x,axis =(0,1,2))\n",
    "                temp_batch = np.vstack([temp_min,x_min])\n",
    "                x_min = np.amin(temp_batch,axis=(0))\n",
    "                \n",
    "    x_mean = x_mean/count     \n",
    "    x_range = x_max-x_min\n",
    "    return x_mean,x_range\n",
    "\n",
    "def get_y_mean_n_range():\n",
    "    ds = ds = h5py.File(\"../data/data2D%d.h5\",\"r\",driver='family', memb_size=2500*10**6)\n",
    "    y_min = 0 \n",
    "    y_max = 0\n",
    "    y_mean = 0\n",
    "    count = 0\n",
    "    for key1 in list(ds.keys()):\n",
    "        for key2 in ds[key1].keys():\n",
    "            if key2.find(\"y\")>=0 :\n",
    "                temp_y = np.real(ds[key1][key2][:])\n",
    "                if temp_y.shape[0] != 64:\n",
    "                    continue\n",
    "                    \n",
    "                #handle mean\n",
    "                count+=1\n",
    "                y_mean += np.mean(temp_y)\n",
    "                \n",
    "                #handle max\n",
    "                temp_max = np.max(temp_y)\n",
    "                y_max = temp_max if temp_max>y_max else y_max\n",
    "                \n",
    "                #handle min\n",
    "                temp_min = np.min(temp_y)\n",
    "                y_min = temp_min if temp_min<y_min else y_min\n",
    "                \n",
    "    y_mean = y_mean/count     \n",
    "    y_range = y_max-y_min\n",
    "    return y_mean,y_range\n",
    "                \n",
    "def generate_data_from_file(x_mean,x_range,y_mean,y_range):\n",
    "    while 1:\n",
    "        ds = h5py.File(\"../data/data2D%d.h5\",\"r\",driver='family', memb_size=2500*10**6)\n",
    "        for key1 in list(ds.keys()):\n",
    "            x_count = 0\n",
    "            y_count = 0\n",
    "            for key2 in list(ds[key1].keys()):   #0-399 or 0-199\n",
    "                if key2[0]!=\"x\" or ds[key1][key2].shape[0]>64:\n",
    "                    continue\n",
    "                \n",
    "                x_raw = ds[key1][key2][:]\n",
    "                y_key = \"y\"+key2[1:]\n",
    "                y_raw = ds[key1][y_key][:]\n",
    "#                 x_mean = np.mean(x_raw,axis=(0,1,2))\n",
    "#                 x_max = np.amax(x_raw,axis=(0,1,2))\n",
    "                x_normed = (x_raw-x_mean)/x_range\n",
    "                \n",
    "#                 y_mean = np.mean(y_raw,axis=())\n",
    "#                 y_max = np.max(y_raw,axis=())\n",
    "#                 y_min = np.min(y_raw,axis=())\n",
    "                y_normed = (y_raw-y_mean)/y_range\n",
    "                \n",
    "                yield(x_normed,y_normed)\n",
    "\n",
    "def get_validation_data(x_mean,x_range,y_mean,y_range):\n",
    "    ds = h5py.File(\"../data/data2D%d.h5\",\"r\",driver='family', memb_size=2500*10**6)\n",
    "    x_val_raw = ds[\"random\"][\"x0\"][:]\n",
    "    y_val_raw = ds[\"random\"][\"y0\"][:]\n",
    "    \n",
    "#     x_val_mean = np.mean(x_val_raw,axis=(0,1,2))\n",
    "#     x_val_max = np.amax(x_val_raw,axis=(0,1,2))\n",
    "    x_val_normed = (x_val_raw-x_mean)/x_range\n",
    "    \n",
    "#     y_val_mean = np.mean(y_val_raw,axis=())\n",
    "#     y_val_max = np.max(y_val_raw,axis=())\n",
    "#     y_val_min = np.min(y_val_raw,axis=())\n",
    "    y_val_normed = (y_val_raw-y_mean)/y_range\n",
    "    \n",
    "    return x_val_normed,y_val_normed\n",
    "\n",
    "def get_test_data(x_mean,x_range,y_mean,y_range):\n",
    "    x_test_raw = np.load(\"../data/inputMatrix.npz\")[\"inputMatrix\"][:]\n",
    "    y_test_raw = np.load(\"../data/Solution.npz\")[\"frequency1\"][:,:50]\n",
    "    x_test = (x_test_raw-x_mean)/x_range\n",
    "    y_test = (y_test_raw-y_mean)/y_range\n",
    "    return x_test,y_test,x_test_raw,y_test_raw\n",
    "    \n"
   ]
  },
  {
   "cell_type": "code",
   "execution_count": 6,
   "metadata": {},
   "outputs": [
    {
     "name": "stdout",
     "output_type": "stream",
     "text": [
      "[[1.49880835e+11 4.40176392e+03 2.74842257e-01 2.49137578e-01\n",
      "  2.49167977e-01]]\n",
      "[2.99999999e+11 8.00000000e+03 4.49999999e-01 4.99999586e-01\n",
      " 4.99985816e-01]\n"
     ]
    }
   ],
   "source": [
    "x_mean,x_range = get_x_mean_n_range()\n",
    "print(x_mean)\n",
    "print(x_range)"
   ]
  },
  {
   "cell_type": "code",
   "execution_count": 7,
   "metadata": {},
   "outputs": [
    {
     "name": "stdout",
     "output_type": "stream",
     "text": [
      "1096210.1699824824\n",
      "6727841.0\n"
     ]
    }
   ],
   "source": [
    "y_mean,y_range = get_y_mean_n_range()\n",
    "print(y_mean)\n",
    "print(y_range)"
   ]
  },
  {
   "cell_type": "code",
   "execution_count": 9,
   "metadata": {},
   "outputs": [],
   "source": [
    "def create_model():\n",
    "    model=Sequential()\n",
    "\n",
    "    model.add(Conv2D(filters=n_filters, kernel_size = kernel_size ,strides= input_strides,\n",
    "                     input_shape=(128,128,5),kernel_initializer= kernel_init))\n",
    "    model.add(Activation('relu'))\n",
    "\n",
    "    #model.add(Conv2D(filters=n_filters, kernel_size = kernel_size ,strides= input_strides,\n",
    "    #                 kernel_initializer= kernel_init))\n",
    "    #model.add(Activation('relu'))\n",
    "\n",
    "    #model.add(Conv2D(filters=n_filters, kernel_size = kernel_size ,strides= input_strides,\n",
    "    #                 kernel_initializer= kernel_init))\n",
    "    #model.add(Activation('relu'))\n",
    "\n",
    "\n",
    "    model.add(MaxPooling2D(pool_size=max_poolsize))\n",
    "\n",
    "    #model.add(BatchNormalization())\n",
    "\n",
    "    model.add(Conv2D(filters=n_filters, kernel_size = kernel_size ,strides= input_strides,\n",
    "                     kernel_initializer= kernel_init))\n",
    "    model.add(Activation('relu'))\n",
    "    model.add(MaxPooling2D(pool_size=max_poolsize))\n",
    "\n",
    "    #model.add(BatchNormalization())\n",
    "\n",
    "    model.add(Conv2D(filters=n_filters, kernel_size = kernel_size ,strides= input_strides,\n",
    "                     kernel_initializer= kernel_init))\n",
    "    model.add(Activation('relu'))\n",
    "    model.add(MaxPooling2D(pool_size=max_poolsize))\n",
    "    \n",
    "#     model.add(Conv2D(filters=n_filters, kernel_size = kernel_size ,strides= input_strides,\n",
    "#                      kernel_initializer= kernel_init))\n",
    "#     model.add(Activation('relu'))\n",
    "    #model.add(MaxPooling2D(pool_size=max_poolsize))\n",
    "\n",
    "    model.add(Flatten())\n",
    "    model.add(Dense(n_hidden_units))\n",
    "    model.add(Activation('relu'))\n",
    "    model.add(Dense(n_output[1]-n_output[0], activation='linear'))\n",
    "\n",
    "    earlyStopping = keras.callbacks.EarlyStopping(monitor='val_loss', min_delta=early_stop_delta, patience=early_stop_patience, verbose=2, mode='auto')\n",
    "\n",
    "    model.summary()\n",
    "    return model"
   ]
  },
  {
   "cell_type": "code",
   "execution_count": 24,
   "metadata": {},
   "outputs": [
    {
     "name": "stdout",
     "output_type": "stream",
     "text": [
      "_________________________________________________________________\n",
      "Layer (type)                 Output Shape              Param #   \n",
      "=================================================================\n",
      "conv2d_7 (Conv2D)            (None, 127, 127, 130)     2730      \n",
      "_________________________________________________________________\n",
      "activation_9 (Activation)    (None, 127, 127, 130)     0         \n",
      "_________________________________________________________________\n",
      "max_pooling2d_7 (MaxPooling2 (None, 63, 63, 130)       0         \n",
      "_________________________________________________________________\n",
      "conv2d_8 (Conv2D)            (None, 62, 62, 130)       67730     \n",
      "_________________________________________________________________\n",
      "activation_10 (Activation)   (None, 62, 62, 130)       0         \n",
      "_________________________________________________________________\n",
      "max_pooling2d_8 (MaxPooling2 (None, 31, 31, 130)       0         \n",
      "_________________________________________________________________\n",
      "conv2d_9 (Conv2D)            (None, 30, 30, 130)       67730     \n",
      "_________________________________________________________________\n",
      "activation_11 (Activation)   (None, 30, 30, 130)       0         \n",
      "_________________________________________________________________\n",
      "max_pooling2d_9 (MaxPooling2 (None, 15, 15, 130)       0         \n",
      "_________________________________________________________________\n",
      "flatten_3 (Flatten)          (None, 29250)             0         \n",
      "_________________________________________________________________\n",
      "dense_5 (Dense)              (None, 50)                1462550   \n",
      "_________________________________________________________________\n",
      "activation_12 (Activation)   (None, 50)                0         \n",
      "_________________________________________________________________\n",
      "dense_6 (Dense)              (None, 50)                2550      \n",
      "=================================================================\n",
      "Total params: 1,603,290\n",
      "Trainable params: 1,603,290\n",
      "Non-trainable params: 0\n",
      "_________________________________________________________________\n"
     ]
    }
   ],
   "source": [
    "model = create_model()\n",
    "parallel_model = multi_gpu_model(model, gpus=2)"
   ]
  },
  {
   "cell_type": "code",
   "execution_count": 25,
   "metadata": {},
   "outputs": [],
   "source": [
    "#model.compile(loss=cost_function, optimizer='adam', metrics=[\"MAE\"])\n",
    "parallel_model.compile(loss=cost_function, optimizer='adam', metrics=[\"MAE\"])"
   ]
  },
  {
   "cell_type": "code",
   "execution_count": 12,
   "metadata": {},
   "outputs": [
    {
     "name": "stdout",
     "output_type": "stream",
     "text": [
      "(15360, 128, 128, 5) (15360, 50)\n",
      "[-0.41074545  0.38468491 -0.3320371  -0.10327968  0.22063786]\n",
      "[-0.13456129-2.45686761e-12j -0.12932207+4.80859536e-12j\n",
      " -0.12199552+8.19367848e-13j -0.11168992-1.68551249e-11j\n",
      " -0.10281598+4.14451841e-11j -0.10213102-1.49313461e-11j\n",
      " -0.09387112-2.45010227e-11j -0.09083606+1.40311443e-11j\n",
      " -0.08885166+3.80655707e-12j -0.08095209-2.16298212e-11j\n",
      " -0.07790928+1.09215900e-11j -0.07704957+3.91925346e-11j\n",
      " -0.07190627+4.68126753e-11j -0.06895456-3.24584838e-11j\n",
      " -0.06569687-4.26053290e-11j -0.05268907+3.67771889e-11j\n",
      " -0.04989202+1.07599957e-10j -0.04768465-1.02832631e-10j\n",
      " -0.04347732+5.24321177e-11j -0.04247696+9.31105193e-11j\n",
      " -0.03967341-1.12276397e-10j -0.03773416+8.79517709e-11j\n",
      " -0.03653685-8.02528877e-11j -0.03505816+1.42429221e-10j\n",
      " -0.03318293+1.50398402e-10j -0.02809242-5.27961702e-11j\n",
      " -0.02458743-3.43634808e-11j -0.02283694-2.49335951e-11j\n",
      " -0.02070505+2.80978879e-10j -0.01989186+1.10593229e-10j\n",
      " -0.01703646+4.94370690e-11j -0.01440656+6.28264940e-11j\n",
      " -0.01266035-2.53572968e-10j -0.01055181+8.38733111e-11j\n",
      " -0.00884592-1.08705385e-10j -0.00517633-1.81814303e-11j\n",
      " -0.0032934 -6.56391885e-11j -0.00133602+1.49799770e-10j\n",
      "  0.00095452+7.06118497e-11j  0.00424276+7.88029295e-11j\n",
      "  0.00582893+1.84371407e-10j  0.0066837 -3.64282458e-11j\n",
      "  0.00861393-7.59940635e-12j  0.01050112-5.55776467e-11j\n",
      "  0.01198081-1.15240859e-10j  0.01318731-5.46801160e-10j\n",
      "  0.01456953-1.43613066e-10j  0.01706755-5.77724153e-11j\n",
      "  0.0181148 -1.33205835e-10j  0.01938525-7.85391127e-11j]\n"
     ]
    }
   ],
   "source": [
    "x_val,y_val = get_validation_data(x_mean,x_range,y_mean,y_range)\n",
    "print(x_val.shape,y_val.shape)\n",
    "print(x_val[0][0][0])\n",
    "print(y_val[0])"
   ]
  },
  {
   "cell_type": "code",
   "execution_count": 28,
   "metadata": {},
   "outputs": [
    {
     "name": "stdout",
     "output_type": "stream",
     "text": [
      "Epoch 1/12\n"
     ]
    },
    {
     "name": "stderr",
     "output_type": "stream",
     "text": [
      "/home/ubuntu/anaconda3/envs/tensorflow_p36/lib/python3.6/site-packages/numpy/core/numeric.py:538: ComplexWarning: Casting complex values to real discards the imaginary part\n",
      "  return array(a, dtype, copy=False, order=order)\n"
     ]
    },
    {
     "name": "stdout",
     "output_type": "stream",
     "text": [
      "999/999 [==============================] - 415s 415ms/step - loss: 4.4319e-04 - mean_absolute_error: 0.0105 - val_loss: 1.9406e-04 - val_mean_absolute_error: 0.0112\n",
      "Epoch 2/12\n",
      "999/999 [==============================] - 361s 361ms/step - loss: 1.0335e-04 - mean_absolute_error: 0.0063 - val_loss: 9.2225e-04 - val_mean_absolute_error: 0.0282\n",
      "Epoch 3/12\n",
      "999/999 [==============================] - 362s 362ms/step - loss: 7.9816e-05 - mean_absolute_error: 0.0058 - val_loss: 0.0012 - val_mean_absolute_error: 0.0318\n",
      "Epoch 4/12\n",
      "999/999 [==============================] - 361s 361ms/step - loss: 8.9057e-05 - mean_absolute_error: 0.0059 - val_loss: 0.0012 - val_mean_absolute_error: 0.0317\n",
      "Epoch 5/12\n",
      "999/999 [==============================] - 361s 361ms/step - loss: 7.9172e-05 - mean_absolute_error: 0.0056 - val_loss: 8.8596e-04 - val_mean_absolute_error: 0.0272\n",
      "Epoch 6/12\n",
      "999/999 [==============================] - 360s 361ms/step - loss: 7.0046e-05 - mean_absolute_error: 0.0054 - val_loss: 8.3828e-04 - val_mean_absolute_error: 0.0266\n",
      "Epoch 7/12\n",
      "999/999 [==============================] - 360s 361ms/step - loss: 6.6835e-05 - mean_absolute_error: 0.0053 - val_loss: 9.1068e-04 - val_mean_absolute_error: 0.0279\n",
      "Epoch 8/12\n",
      "999/999 [==============================] - 360s 360ms/step - loss: 6.7170e-05 - mean_absolute_error: 0.0053 - val_loss: 8.9196e-04 - val_mean_absolute_error: 0.0275\n",
      "Epoch 9/12\n",
      "999/999 [==============================] - 360s 360ms/step - loss: 6.3335e-05 - mean_absolute_error: 0.0052 - val_loss: 7.3210e-04 - val_mean_absolute_error: 0.0250\n",
      "Epoch 10/12\n",
      "999/999 [==============================] - 360s 360ms/step - loss: 5.7821e-05 - mean_absolute_error: 0.0051 - val_loss: 7.0930e-04 - val_mean_absolute_error: 0.0246\n",
      "Epoch 11/12\n",
      "999/999 [==============================] - 360s 360ms/step - loss: 5.6289e-05 - mean_absolute_error: 0.0050 - val_loss: 7.1933e-04 - val_mean_absolute_error: 0.0248\n",
      "Epoch 12/12\n",
      "999/999 [==============================] - 360s 360ms/step - loss: 5.7489e-05 - mean_absolute_error: 0.0051 - val_loss: 6.6908e-04 - val_mean_absolute_error: 0.0240\n"
     ]
    },
    {
     "data": {
      "text/plain": [
       "<keras.callbacks.History at 0x7fb05c10aa90>"
      ]
     },
     "execution_count": 28,
     "metadata": {},
     "output_type": "execute_result"
    }
   ],
   "source": [
    "parallel_model.fit_generator(generate_data_from_file(x_mean,x_range,y_mean,y_range),\n",
    "                    steps_per_epoch=999,epochs=12,validation_data=(x_val,y_val))"
   ]
  },
  {
   "cell_type": "code",
   "execution_count": 29,
   "metadata": {},
   "outputs": [],
   "source": [
    "model.save(\"model_wholeSet_normed_c3_f130_e12.h5\")"
   ]
  },
  {
   "cell_type": "code",
   "execution_count": 49,
   "metadata": {},
   "outputs": [],
   "source": [
    "x_test,y_test,x_test_raw,y_test_raw = get_test_data(x_mean,x_range,y_mean,y_range)"
   ]
  },
  {
   "cell_type": "code",
   "execution_count": 50,
   "metadata": {},
   "outputs": [
    {
     "name": "stdout",
     "output_type": "stream",
     "text": [
      "22/22 [==============================] - 0s 3ms/step\n",
      "loss: 0.0013233348727226257\n",
      "mae: 0.03408118709921837\n"
     ]
    }
   ],
   "source": [
    "loss,mae=model.evaluate(x_test,y_test)\n",
    "print(\"loss:\",loss)\n",
    "print(\"mae:\",mae)"
   ]
  },
  {
   "cell_type": "code",
   "execution_count": null,
   "metadata": {},
   "outputs": [],
   "source": []
  }
 ],
 "metadata": {
  "kernelspec": {
   "display_name": "ML",
   "language": "python",
   "name": "ml"
  },
  "language_info": {
   "codemirror_mode": {
    "name": "ipython",
    "version": 3
   },
   "file_extension": ".py",
   "mimetype": "text/x-python",
   "name": "python",
   "nbconvert_exporter": "python",
   "pygments_lexer": "ipython3",
   "version": "3.7.3"
  }
 },
 "nbformat": 4,
 "nbformat_minor": 2
}
