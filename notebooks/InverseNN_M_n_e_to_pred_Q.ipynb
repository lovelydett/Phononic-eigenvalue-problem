{
 "cells": [
  {
   "cell_type": "code",
   "execution_count": 100,
   "metadata": {},
   "outputs": [],
   "source": [
    "'''\n",
    "This is just a little try on predicting wave numbers with material filed and eigenvalues\n",
    "and is not yet trained and tested due to limited time.\n",
    "\n",
    "Author:xyt\n",
    "2019.8.8\n",
    "'''\n",
    "import tensorflow as tf \n",
    "import numpy as np\n",
    "import keras\n",
    "import keras.backend as K \n",
    "from keras.models import Sequential,Model\n",
    "from keras.layers import Dense, Dropout, Activation, Flatten, BatchNormalization\n",
    "from keras.layers import Conv2D, GlobalMaxPooling1D, MaxPooling2D,Input,Conv1D,MaxPooling1D,MaxPool2D\n",
    "from keras.optimizers import Adam\n",
    "from keras.utils.training_utils import multi_gpu_model\n",
    "import scipy as sp\n",
    "import keras.backend as K\n",
    "\n",
    "import keras.backend.tensorflow_backend as KTF\n",
    " \n",
    "KTF.set_session(tf.Session(config=tf.ConfigProto(device_count={'cpu':0})))"
   ]
  },
  {
   "cell_type": "code",
   "execution_count": 98,
   "metadata": {},
   "outputs": [],
   "source": [
    "def multi_input_model():\n",
    "    input1_= Input(shape=(128,128,3), name='material',dtype = \"float32\")\n",
    "    input2_ = Input(shape=(50,1), name='eigenvalues',dtype = \"float32\")\n",
    " \n",
    "    x1 = Conv2D(60, kernel_size=(2,2), strides=1, activation='relu', padding='same')(input1_)\n",
    "    x1 = MaxPool2D(pool_size=(2,2), strides=4)(x1)\n",
    "    x1 = Conv2D(60, kernel_size=(2,2), strides=1, activation='relu', padding='same')(x1)\n",
    "    x1 = MaxPool2D(pool_size=(2,2), strides=4)(x1)\n",
    "    x1 = Conv2D(60, kernel_size=(2,2), strides=1, activation='relu', padding='same')(x1)\n",
    "    x1 = MaxPool2D(pool_size=(2,2), strides=2)(x1)    \n",
    "    x1 = Flatten()(x1)\n",
    "    \n",
    "    x2 = Conv1D(16, kernel_size=3, strides=1, activation='relu', padding='same')(input2_)\n",
    "    x2 = MaxPooling1D(pool_size=2, strides=2)(x2)\n",
    "    \n",
    "    x2 = Flatten()(x2)\n",
    "    #x2 = K.transpose(x2)\n",
    "    x = keras.layers.concatenate([x1, x2])\n",
    "    #x = Flatten()(x)\n",
    "    \n",
    "    x = Dense(10, activation='relu')(x)\n",
    "    output_ = Dense(2, activation='relu', name='output')(x)\n",
    " \n",
    "    model = Model(inputs=[input1_, input2_], outputs=[x])\n",
    "    model.summary()\n",
    " \n",
    "    return model\n",
    "\n"
   ]
  },
  {
   "cell_type": "code",
   "execution_count": 99,
   "metadata": {},
   "outputs": [
    {
     "name": "stdout",
     "output_type": "stream",
     "text": [
      "__________________________________________________________________________________________________\n",
      "Layer (type)                    Output Shape         Param #     Connected to                     \n",
      "==================================================================================================\n",
      "material (InputLayer)           (None, 128, 128, 3)  0                                            \n",
      "__________________________________________________________________________________________________\n",
      "conv2d_128 (Conv2D)             (None, 128, 128, 60) 780         material[0][0]                   \n",
      "__________________________________________________________________________________________________\n",
      "max_pooling2d_127 (MaxPooling2D (None, 32, 32, 60)   0           conv2d_128[0][0]                 \n",
      "__________________________________________________________________________________________________\n",
      "conv2d_129 (Conv2D)             (None, 32, 32, 60)   14460       max_pooling2d_127[0][0]          \n",
      "__________________________________________________________________________________________________\n",
      "max_pooling2d_128 (MaxPooling2D (None, 8, 8, 60)     0           conv2d_129[0][0]                 \n",
      "__________________________________________________________________________________________________\n",
      "eigenvalues (InputLayer)        (None, 50, 1)        0                                            \n",
      "__________________________________________________________________________________________________\n",
      "conv2d_130 (Conv2D)             (None, 8, 8, 60)     14460       max_pooling2d_128[0][0]          \n",
      "__________________________________________________________________________________________________\n",
      "conv1d_43 (Conv1D)              (None, 50, 16)       64          eigenvalues[0][0]                \n",
      "__________________________________________________________________________________________________\n",
      "max_pooling2d_129 (MaxPooling2D (None, 4, 4, 60)     0           conv2d_130[0][0]                 \n",
      "__________________________________________________________________________________________________\n",
      "max_pooling1d_42 (MaxPooling1D) (None, 25, 16)       0           conv1d_43[0][0]                  \n",
      "__________________________________________________________________________________________________\n",
      "flatten_78 (Flatten)            (None, 960)          0           max_pooling2d_129[0][0]          \n",
      "__________________________________________________________________________________________________\n",
      "flatten_79 (Flatten)            (None, 400)          0           max_pooling1d_42[0][0]           \n",
      "__________________________________________________________________________________________________\n",
      "concatenate_3 (Concatenate)     (None, 1360)         0           flatten_78[0][0]                 \n",
      "                                                                 flatten_79[0][0]                 \n",
      "__________________________________________________________________________________________________\n",
      "dense_34 (Dense)                (None, 10)           13610       concatenate_3[0][0]              \n",
      "==================================================================================================\n",
      "Total params: 43,374\n",
      "Trainable params: 43,374\n",
      "Non-trainable params: 0\n",
      "__________________________________________________________________________________________________\n"
     ]
    }
   ],
   "source": [
    "model = multi_input_model()"
   ]
  },
  {
   "cell_type": "code",
   "execution_count": null,
   "metadata": {},
   "outputs": [],
   "source": []
  }
 ],
 "metadata": {
  "kernelspec": {
   "display_name": "ML",
   "language": "python",
   "name": "ml"
  },
  "language_info": {
   "codemirror_mode": {
    "name": "ipython",
    "version": 3
   },
   "file_extension": ".py",
   "mimetype": "text/x-python",
   "name": "python",
   "nbconvert_exporter": "python",
   "pygments_lexer": "ipython3",
   "version": "3.7.3"
  }
 },
 "nbformat": 4,
 "nbformat_minor": 2
}
